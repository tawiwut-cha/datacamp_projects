{
 "cells": [
  {
   "cell_type": "markdown",
   "source": [
    "# Predicting creditcard approvals\r\n",
    "\r\n",
    "## Plan<br>\r\n",
    "0. Import packages\r\n",
    "1. Investigate data\r\n",
    "2. Clean data\r\n",
    "3. EDA\r\n",
    "4. Preprocessing for model\r\n",
    "5. Build model\r\n",
    "6. Fine tune"
   ],
   "metadata": {}
  },
  {
   "cell_type": "markdown",
   "source": [
    "## Import packages\r\n",
    "\r\n",
    "We are probably going to use np, pd, plt<br>\r\n",
    "Classification models --> knn, logistic-regression<br>"
   ],
   "metadata": {}
  },
  {
   "cell_type": "code",
   "execution_count": 35,
   "source": [
    "import pandas as pd\r\n",
    "import numpy as np\r\n",
    "import matplotlib.pyplot as plt\r\n",
    "import seaborn as sns"
   ],
   "outputs": [],
   "metadata": {}
  },
  {
   "cell_type": "markdown",
   "source": [
    "## Investigate data"
   ],
   "metadata": {}
  },
  {
   "cell_type": "code",
   "execution_count": 36,
   "source": [
    "# import data\r\n",
    "df = pd.read_csv('cc_approvals.data', names=['colName_{}'.format(i) for i in range(16)])\r\n",
    "df.head()"
   ],
   "outputs": [
    {
     "output_type": "execute_result",
     "data": {
      "text/plain": [
       "  colName_0 colName_1  colName_2 colName_3 colName_4 colName_5 colName_6  \\\n",
       "0         b     30.83      0.000         u         g         w         v   \n",
       "1         a     58.67      4.460         u         g         q         h   \n",
       "2         a     24.50      0.500         u         g         q         h   \n",
       "3         b     27.83      1.540         u         g         w         v   \n",
       "4         b     20.17      5.625         u         g         w         v   \n",
       "\n",
       "   colName_7 colName_8 colName_9  colName_10 colName_11 colName_12 colName_13  \\\n",
       "0       1.25         t         t           1          f          g      00202   \n",
       "1       3.04         t         t           6          f          g      00043   \n",
       "2       1.50         t         f           0          f          g      00280   \n",
       "3       3.75         t         t           5          t          g      00100   \n",
       "4       1.71         t         f           0          f          s      00120   \n",
       "\n",
       "   colName_14 colName_15  \n",
       "0           0          +  \n",
       "1         560          +  \n",
       "2         824          +  \n",
       "3           3          +  \n",
       "4           0          +  "
      ],
      "text/html": [
       "<div>\n",
       "<style scoped>\n",
       "    .dataframe tbody tr th:only-of-type {\n",
       "        vertical-align: middle;\n",
       "    }\n",
       "\n",
       "    .dataframe tbody tr th {\n",
       "        vertical-align: top;\n",
       "    }\n",
       "\n",
       "    .dataframe thead th {\n",
       "        text-align: right;\n",
       "    }\n",
       "</style>\n",
       "<table border=\"1\" class=\"dataframe\">\n",
       "  <thead>\n",
       "    <tr style=\"text-align: right;\">\n",
       "      <th></th>\n",
       "      <th>colName_0</th>\n",
       "      <th>colName_1</th>\n",
       "      <th>colName_2</th>\n",
       "      <th>colName_3</th>\n",
       "      <th>colName_4</th>\n",
       "      <th>colName_5</th>\n",
       "      <th>colName_6</th>\n",
       "      <th>colName_7</th>\n",
       "      <th>colName_8</th>\n",
       "      <th>colName_9</th>\n",
       "      <th>colName_10</th>\n",
       "      <th>colName_11</th>\n",
       "      <th>colName_12</th>\n",
       "      <th>colName_13</th>\n",
       "      <th>colName_14</th>\n",
       "      <th>colName_15</th>\n",
       "    </tr>\n",
       "  </thead>\n",
       "  <tbody>\n",
       "    <tr>\n",
       "      <th>0</th>\n",
       "      <td>b</td>\n",
       "      <td>30.83</td>\n",
       "      <td>0.000</td>\n",
       "      <td>u</td>\n",
       "      <td>g</td>\n",
       "      <td>w</td>\n",
       "      <td>v</td>\n",
       "      <td>1.25</td>\n",
       "      <td>t</td>\n",
       "      <td>t</td>\n",
       "      <td>1</td>\n",
       "      <td>f</td>\n",
       "      <td>g</td>\n",
       "      <td>00202</td>\n",
       "      <td>0</td>\n",
       "      <td>+</td>\n",
       "    </tr>\n",
       "    <tr>\n",
       "      <th>1</th>\n",
       "      <td>a</td>\n",
       "      <td>58.67</td>\n",
       "      <td>4.460</td>\n",
       "      <td>u</td>\n",
       "      <td>g</td>\n",
       "      <td>q</td>\n",
       "      <td>h</td>\n",
       "      <td>3.04</td>\n",
       "      <td>t</td>\n",
       "      <td>t</td>\n",
       "      <td>6</td>\n",
       "      <td>f</td>\n",
       "      <td>g</td>\n",
       "      <td>00043</td>\n",
       "      <td>560</td>\n",
       "      <td>+</td>\n",
       "    </tr>\n",
       "    <tr>\n",
       "      <th>2</th>\n",
       "      <td>a</td>\n",
       "      <td>24.50</td>\n",
       "      <td>0.500</td>\n",
       "      <td>u</td>\n",
       "      <td>g</td>\n",
       "      <td>q</td>\n",
       "      <td>h</td>\n",
       "      <td>1.50</td>\n",
       "      <td>t</td>\n",
       "      <td>f</td>\n",
       "      <td>0</td>\n",
       "      <td>f</td>\n",
       "      <td>g</td>\n",
       "      <td>00280</td>\n",
       "      <td>824</td>\n",
       "      <td>+</td>\n",
       "    </tr>\n",
       "    <tr>\n",
       "      <th>3</th>\n",
       "      <td>b</td>\n",
       "      <td>27.83</td>\n",
       "      <td>1.540</td>\n",
       "      <td>u</td>\n",
       "      <td>g</td>\n",
       "      <td>w</td>\n",
       "      <td>v</td>\n",
       "      <td>3.75</td>\n",
       "      <td>t</td>\n",
       "      <td>t</td>\n",
       "      <td>5</td>\n",
       "      <td>t</td>\n",
       "      <td>g</td>\n",
       "      <td>00100</td>\n",
       "      <td>3</td>\n",
       "      <td>+</td>\n",
       "    </tr>\n",
       "    <tr>\n",
       "      <th>4</th>\n",
       "      <td>b</td>\n",
       "      <td>20.17</td>\n",
       "      <td>5.625</td>\n",
       "      <td>u</td>\n",
       "      <td>g</td>\n",
       "      <td>w</td>\n",
       "      <td>v</td>\n",
       "      <td>1.71</td>\n",
       "      <td>t</td>\n",
       "      <td>f</td>\n",
       "      <td>0</td>\n",
       "      <td>f</td>\n",
       "      <td>s</td>\n",
       "      <td>00120</td>\n",
       "      <td>0</td>\n",
       "      <td>+</td>\n",
       "    </tr>\n",
       "  </tbody>\n",
       "</table>\n",
       "</div>"
      ]
     },
     "metadata": {},
     "execution_count": 36
    }
   ],
   "metadata": {}
  },
  {
   "cell_type": "markdown",
   "source": [
    "### Data dictionary\r\n",
    "Features (X)\r\n",
    "- Gender\r\n",
    "- Age\r\n",
    "- Debt\r\n",
    "- Married\r\n",
    "- BankCustomer\r\n",
    "- EducationLevel\r\n",
    "- Ethnicity\r\n",
    "- YearsEmployed\r\n",
    "- PriorDefault\r\n",
    "- Employed\r\n",
    "- CreditScore\r\n",
    "- DriversLicense\r\n",
    "- Citizen\r\n",
    "- ZipCode\r\n",
    "- Income\r\n",
    "\r\n",
    "Target variable (y)\r\n",
    "- ApprovalStatus"
   ],
   "metadata": {}
  },
  {
   "cell_type": "code",
   "execution_count": 37,
   "source": [
    "# rename data columns\r\n",
    "COLUMN_NAMES = ['Gender', 'Age', 'Debt', 'Married', 'BankCustomer', 'EducationLevel', 'Ethnicity', \\\r\n",
    "    'YearsEmployed', 'PriorDefault', 'Employed', 'CreditScore', 'DriversLicense', 'Citizen', 'ZipCode', 'Income', \\\r\n",
    "    'ApprovalStatus']\r\n",
    "FEATURES = COLUMN_NAMES[:-1]\r\n",
    "TARGET_VAR = COLUMN_NAMES[-1:]\r\n",
    "df.columns = COLUMN_NAMES\r\n",
    "df.head()"
   ],
   "outputs": [
    {
     "output_type": "execute_result",
     "data": {
      "text/plain": [
       "  Gender    Age   Debt Married BankCustomer EducationLevel Ethnicity  \\\n",
       "0      b  30.83  0.000       u            g              w         v   \n",
       "1      a  58.67  4.460       u            g              q         h   \n",
       "2      a  24.50  0.500       u            g              q         h   \n",
       "3      b  27.83  1.540       u            g              w         v   \n",
       "4      b  20.17  5.625       u            g              w         v   \n",
       "\n",
       "   YearsEmployed PriorDefault Employed  CreditScore DriversLicense Citizen  \\\n",
       "0           1.25            t        t            1              f       g   \n",
       "1           3.04            t        t            6              f       g   \n",
       "2           1.50            t        f            0              f       g   \n",
       "3           3.75            t        t            5              t       g   \n",
       "4           1.71            t        f            0              f       s   \n",
       "\n",
       "  ZipCode  Income ApprovalStatus  \n",
       "0   00202       0              +  \n",
       "1   00043     560              +  \n",
       "2   00280     824              +  \n",
       "3   00100       3              +  \n",
       "4   00120       0              +  "
      ],
      "text/html": [
       "<div>\n",
       "<style scoped>\n",
       "    .dataframe tbody tr th:only-of-type {\n",
       "        vertical-align: middle;\n",
       "    }\n",
       "\n",
       "    .dataframe tbody tr th {\n",
       "        vertical-align: top;\n",
       "    }\n",
       "\n",
       "    .dataframe thead th {\n",
       "        text-align: right;\n",
       "    }\n",
       "</style>\n",
       "<table border=\"1\" class=\"dataframe\">\n",
       "  <thead>\n",
       "    <tr style=\"text-align: right;\">\n",
       "      <th></th>\n",
       "      <th>Gender</th>\n",
       "      <th>Age</th>\n",
       "      <th>Debt</th>\n",
       "      <th>Married</th>\n",
       "      <th>BankCustomer</th>\n",
       "      <th>EducationLevel</th>\n",
       "      <th>Ethnicity</th>\n",
       "      <th>YearsEmployed</th>\n",
       "      <th>PriorDefault</th>\n",
       "      <th>Employed</th>\n",
       "      <th>CreditScore</th>\n",
       "      <th>DriversLicense</th>\n",
       "      <th>Citizen</th>\n",
       "      <th>ZipCode</th>\n",
       "      <th>Income</th>\n",
       "      <th>ApprovalStatus</th>\n",
       "    </tr>\n",
       "  </thead>\n",
       "  <tbody>\n",
       "    <tr>\n",
       "      <th>0</th>\n",
       "      <td>b</td>\n",
       "      <td>30.83</td>\n",
       "      <td>0.000</td>\n",
       "      <td>u</td>\n",
       "      <td>g</td>\n",
       "      <td>w</td>\n",
       "      <td>v</td>\n",
       "      <td>1.25</td>\n",
       "      <td>t</td>\n",
       "      <td>t</td>\n",
       "      <td>1</td>\n",
       "      <td>f</td>\n",
       "      <td>g</td>\n",
       "      <td>00202</td>\n",
       "      <td>0</td>\n",
       "      <td>+</td>\n",
       "    </tr>\n",
       "    <tr>\n",
       "      <th>1</th>\n",
       "      <td>a</td>\n",
       "      <td>58.67</td>\n",
       "      <td>4.460</td>\n",
       "      <td>u</td>\n",
       "      <td>g</td>\n",
       "      <td>q</td>\n",
       "      <td>h</td>\n",
       "      <td>3.04</td>\n",
       "      <td>t</td>\n",
       "      <td>t</td>\n",
       "      <td>6</td>\n",
       "      <td>f</td>\n",
       "      <td>g</td>\n",
       "      <td>00043</td>\n",
       "      <td>560</td>\n",
       "      <td>+</td>\n",
       "    </tr>\n",
       "    <tr>\n",
       "      <th>2</th>\n",
       "      <td>a</td>\n",
       "      <td>24.50</td>\n",
       "      <td>0.500</td>\n",
       "      <td>u</td>\n",
       "      <td>g</td>\n",
       "      <td>q</td>\n",
       "      <td>h</td>\n",
       "      <td>1.50</td>\n",
       "      <td>t</td>\n",
       "      <td>f</td>\n",
       "      <td>0</td>\n",
       "      <td>f</td>\n",
       "      <td>g</td>\n",
       "      <td>00280</td>\n",
       "      <td>824</td>\n",
       "      <td>+</td>\n",
       "    </tr>\n",
       "    <tr>\n",
       "      <th>3</th>\n",
       "      <td>b</td>\n",
       "      <td>27.83</td>\n",
       "      <td>1.540</td>\n",
       "      <td>u</td>\n",
       "      <td>g</td>\n",
       "      <td>w</td>\n",
       "      <td>v</td>\n",
       "      <td>3.75</td>\n",
       "      <td>t</td>\n",
       "      <td>t</td>\n",
       "      <td>5</td>\n",
       "      <td>t</td>\n",
       "      <td>g</td>\n",
       "      <td>00100</td>\n",
       "      <td>3</td>\n",
       "      <td>+</td>\n",
       "    </tr>\n",
       "    <tr>\n",
       "      <th>4</th>\n",
       "      <td>b</td>\n",
       "      <td>20.17</td>\n",
       "      <td>5.625</td>\n",
       "      <td>u</td>\n",
       "      <td>g</td>\n",
       "      <td>w</td>\n",
       "      <td>v</td>\n",
       "      <td>1.71</td>\n",
       "      <td>t</td>\n",
       "      <td>f</td>\n",
       "      <td>0</td>\n",
       "      <td>f</td>\n",
       "      <td>s</td>\n",
       "      <td>00120</td>\n",
       "      <td>0</td>\n",
       "      <td>+</td>\n",
       "    </tr>\n",
       "  </tbody>\n",
       "</table>\n",
       "</div>"
      ]
     },
     "metadata": {},
     "execution_count": 37
    }
   ],
   "metadata": {}
  },
  {
   "cell_type": "markdown",
   "source": [
    "### Check each feature\r\n",
    "- Check null values + look for hidden nulls\r\n",
    "- Check appropriate data types\r\n",
    "- Come up with cleaning strategy"
   ],
   "metadata": {}
  },
  {
   "cell_type": "code",
   "execution_count": 38,
   "source": [
    "# check for null values\r\n",
    "print(df.info())\r\n",
    "print()\r\n",
    "print()\r\n",
    "print(df.describe())"
   ],
   "outputs": [
    {
     "output_type": "stream",
     "name": "stdout",
     "text": [
      "<class 'pandas.core.frame.DataFrame'>\n",
      "RangeIndex: 690 entries, 0 to 689\n",
      "Data columns (total 16 columns):\n",
      " #   Column          Non-Null Count  Dtype  \n",
      "---  ------          --------------  -----  \n",
      " 0   Gender          690 non-null    object \n",
      " 1   Age             690 non-null    object \n",
      " 2   Debt            690 non-null    float64\n",
      " 3   Married         690 non-null    object \n",
      " 4   BankCustomer    690 non-null    object \n",
      " 5   EducationLevel  690 non-null    object \n",
      " 6   Ethnicity       690 non-null    object \n",
      " 7   YearsEmployed   690 non-null    float64\n",
      " 8   PriorDefault    690 non-null    object \n",
      " 9   Employed        690 non-null    object \n",
      " 10  CreditScore     690 non-null    int64  \n",
      " 11  DriversLicense  690 non-null    object \n",
      " 12  Citizen         690 non-null    object \n",
      " 13  ZipCode         690 non-null    object \n",
      " 14  Income          690 non-null    int64  \n",
      " 15  ApprovalStatus  690 non-null    object \n",
      "dtypes: float64(2), int64(2), object(12)\n",
      "memory usage: 86.4+ KB\n",
      "None\n",
      "\n",
      "\n",
      "             Debt  YearsEmployed  CreditScore         Income\n",
      "count  690.000000     690.000000    690.00000     690.000000\n",
      "mean     4.758725       2.223406      2.40000    1017.385507\n",
      "std      4.978163       3.346513      4.86294    5210.102598\n",
      "min      0.000000       0.000000      0.00000       0.000000\n",
      "25%      1.000000       0.165000      0.00000       0.000000\n",
      "50%      2.750000       1.000000      0.00000       5.000000\n",
      "75%      7.207500       2.625000      3.00000     395.500000\n",
      "max     28.000000      28.500000     67.00000  100000.000000\n"
     ]
    }
   ],
   "metadata": {}
  },
  {
   "cell_type": "markdown",
   "source": [
    "no true nulls, have to find hidden nulls"
   ],
   "metadata": {}
  },
  {
   "cell_type": "code",
   "execution_count": 39,
   "source": [
    "# separate categorical features and numerical features\r\n",
    "data_types = dict(df.dtypes)\r\n",
    "features_cat = []\r\n",
    "features_num = []\r\n",
    "for col_name, data_type in data_types.items():\r\n",
    "    if data_type == 'object':\r\n",
    "        features_cat.append(col_name)\r\n",
    "    else:\r\n",
    "        features_num.append(col_name)"
   ],
   "outputs": [],
   "metadata": {}
  },
  {
   "cell_type": "code",
   "execution_count": 40,
   "source": [
    "# finding hidden nulls for categorical features\r\n",
    "\r\n",
    "# get unique values for all categorical features\r\n",
    "for cat_feat in features_cat:\r\n",
    "    unique_categories = list(df[cat_feat].unique())\r\n",
    "    print('({}) unique values:'.format(cat_feat))\r\n",
    "    if len(unique_categories) >= 20:\r\n",
    "        print('More than 20 unique values')\r\n",
    "        print('First five values {}'.format(unique_categories[:5]))\r\n",
    "    else:\r\n",
    "        print(sorted(unique_categories))\r\n",
    "    print()"
   ],
   "outputs": [
    {
     "output_type": "stream",
     "name": "stdout",
     "text": [
      "(Gender) unique values:\n",
      "['?', 'a', 'b']\n",
      "\n",
      "(Age) unique values:\n",
      "More than 20 unique values\n",
      "First five values ['30.83', '58.67', '24.50', '27.83', '20.17']\n",
      "\n",
      "(Married) unique values:\n",
      "['?', 'l', 'u', 'y']\n",
      "\n",
      "(BankCustomer) unique values:\n",
      "['?', 'g', 'gg', 'p']\n",
      "\n",
      "(EducationLevel) unique values:\n",
      "['?', 'aa', 'c', 'cc', 'd', 'e', 'ff', 'i', 'j', 'k', 'm', 'q', 'r', 'w', 'x']\n",
      "\n",
      "(Ethnicity) unique values:\n",
      "['?', 'bb', 'dd', 'ff', 'h', 'j', 'n', 'o', 'v', 'z']\n",
      "\n",
      "(PriorDefault) unique values:\n",
      "['f', 't']\n",
      "\n",
      "(Employed) unique values:\n",
      "['f', 't']\n",
      "\n",
      "(DriversLicense) unique values:\n",
      "['f', 't']\n",
      "\n",
      "(Citizen) unique values:\n",
      "['g', 'p', 's']\n",
      "\n",
      "(ZipCode) unique values:\n",
      "More than 20 unique values\n",
      "First five values ['00202', '00043', '00280', '00100', '00120']\n",
      "\n",
      "(ApprovalStatus) unique values:\n",
      "['+', '-']\n",
      "\n"
     ]
    }
   ],
   "metadata": {}
  },
  {
   "cell_type": "markdown",
   "source": [
    "Summary<br>\r\n",
    "Change data types:\r\n",
    "- Age --> float\r\n",
    "\r\n",
    "Hidden nulls for other columns are in the form of '?'\r\n",
    "- Impute with mean for numerical variables --> to be done later in preprocessing\r\n",
    "- Impute strategy for cat variables --> not that much, we'll just drop those rows\r\n",
    " \r\n",
    "\r\n"
   ],
   "metadata": {}
  },
  {
   "cell_type": "markdown",
   "source": [
    "## Clean data"
   ],
   "metadata": {}
  },
  {
   "cell_type": "code",
   "execution_count": 41,
   "source": [
    "# replace \"?\" with nulls\r\n",
    "df.replace(\"?\", np.nan, inplace=True)\r\n",
    "print(df.info())"
   ],
   "outputs": [
    {
     "output_type": "stream",
     "name": "stdout",
     "text": [
      "<class 'pandas.core.frame.DataFrame'>\n",
      "RangeIndex: 690 entries, 0 to 689\n",
      "Data columns (total 16 columns):\n",
      " #   Column          Non-Null Count  Dtype  \n",
      "---  ------          --------------  -----  \n",
      " 0   Gender          678 non-null    object \n",
      " 1   Age             678 non-null    object \n",
      " 2   Debt            690 non-null    float64\n",
      " 3   Married         684 non-null    object \n",
      " 4   BankCustomer    684 non-null    object \n",
      " 5   EducationLevel  681 non-null    object \n",
      " 6   Ethnicity       681 non-null    object \n",
      " 7   YearsEmployed   690 non-null    float64\n",
      " 8   PriorDefault    690 non-null    object \n",
      " 9   Employed        690 non-null    object \n",
      " 10  CreditScore     690 non-null    int64  \n",
      " 11  DriversLicense  690 non-null    object \n",
      " 12  Citizen         690 non-null    object \n",
      " 13  ZipCode         677 non-null    object \n",
      " 14  Income          690 non-null    int64  \n",
      " 15  ApprovalStatus  690 non-null    object \n",
      "dtypes: float64(2), int64(2), object(12)\n",
      "memory usage: 86.4+ KB\n",
      "None\n"
     ]
    }
   ],
   "metadata": {}
  },
  {
   "cell_type": "markdown",
   "source": [
    "### change datatype and drop rows with null categories"
   ],
   "metadata": {}
  },
  {
   "cell_type": "code",
   "execution_count": 42,
   "source": [
    "# change age to numeric\r\n",
    "df['Age'] = pd.to_numeric(df['Age'])\r\n",
    "# edit list of features\r\n",
    "features_cat.remove('Age')\r\n",
    "features_num.append('Age')"
   ],
   "outputs": [],
   "metadata": {}
  },
  {
   "cell_type": "code",
   "execution_count": 43,
   "source": [
    "# drop rows with incomplete categorical features input\r\n",
    "df.dropna(axis=0, subset=features_cat, inplace=True)\r\n",
    "print(df.info())"
   ],
   "outputs": [
    {
     "output_type": "stream",
     "name": "stdout",
     "text": [
      "<class 'pandas.core.frame.DataFrame'>\n",
      "Int64Index: 664 entries, 0 to 689\n",
      "Data columns (total 16 columns):\n",
      " #   Column          Non-Null Count  Dtype  \n",
      "---  ------          --------------  -----  \n",
      " 0   Gender          664 non-null    object \n",
      " 1   Age             653 non-null    float64\n",
      " 2   Debt            664 non-null    float64\n",
      " 3   Married         664 non-null    object \n",
      " 4   BankCustomer    664 non-null    object \n",
      " 5   EducationLevel  664 non-null    object \n",
      " 6   Ethnicity       664 non-null    object \n",
      " 7   YearsEmployed   664 non-null    float64\n",
      " 8   PriorDefault    664 non-null    object \n",
      " 9   Employed        664 non-null    object \n",
      " 10  CreditScore     664 non-null    int64  \n",
      " 11  DriversLicense  664 non-null    object \n",
      " 12  Citizen         664 non-null    object \n",
      " 13  ZipCode         664 non-null    object \n",
      " 14  Income          664 non-null    int64  \n",
      " 15  ApprovalStatus  664 non-null    object \n",
      "dtypes: float64(3), int64(2), object(11)\n",
      "memory usage: 88.2+ KB\n",
      "None\n"
     ]
    }
   ],
   "metadata": {}
  },
  {
   "cell_type": "code",
   "execution_count": 44,
   "source": [
    "# save to new csv file\r\n",
    "df.to_csv('cc_approvals_cleaned.csv', index=False)"
   ],
   "outputs": [],
   "metadata": {}
  },
  {
   "cell_type": "markdown",
   "source": [
    "## EDA"
   ],
   "metadata": {}
  },
  {
   "cell_type": "code",
   "execution_count": 45,
   "source": [
    "# Approval status by each category\r\n",
    "for i in features_cat:\r\n",
    "    print('ApprovalStatus count by ({})'.format(i))\r\n",
    "    print(df.groupby([i,'ApprovalStatus'])['ApprovalStatus'].count())\r\n",
    "    print()"
   ],
   "outputs": [
    {
     "output_type": "stream",
     "name": "stdout",
     "text": [
      "ApprovalStatus count by (Gender)\n",
      "Gender  ApprovalStatus\n",
      "a       +                  95\n",
      "        -                 110\n",
      "b       +                 203\n",
      "        -                 256\n",
      "Name: ApprovalStatus, dtype: int64\n",
      "\n",
      "ApprovalStatus count by (Married)\n",
      "Married  ApprovalStatus\n",
      "l        +                   2\n",
      "u        +                 251\n",
      "         -                 255\n",
      "y        +                  45\n",
      "         -                 111\n",
      "Name: ApprovalStatus, dtype: int64\n",
      "\n",
      "ApprovalStatus count by (BankCustomer)\n",
      "BankCustomer  ApprovalStatus\n",
      "g             +                 251\n",
      "              -                 255\n",
      "gg            +                   2\n",
      "p             +                  45\n",
      "              -                 111\n",
      "Name: ApprovalStatus, dtype: int64\n",
      "\n",
      "ApprovalStatus count by (EducationLevel)\n",
      "EducationLevel  ApprovalStatus\n",
      "aa              +                 19\n",
      "                -                 34\n",
      "c               +                 60\n",
      "                -                 74\n",
      "cc              +                 29\n",
      "                -                 11\n",
      "d               +                  7\n",
      "                -                 22\n",
      "e               +                 14\n",
      "                -                 10\n",
      "ff              +                  7\n",
      "                -                 44\n",
      "i               +                 14\n",
      "                -                 43\n",
      "j               +                  3\n",
      "                -                  7\n",
      "k               +                 13\n",
      "                -                 36\n",
      "m               +                 16\n",
      "                -                 22\n",
      "q               +                 49\n",
      "                -                 26\n",
      "r               +                  2\n",
      "                -                  1\n",
      "w               +                 33\n",
      "                -                 30\n",
      "x               +                 32\n",
      "                -                  6\n",
      "Name: ApprovalStatus, dtype: int64\n",
      "\n",
      "ApprovalStatus count by (Ethnicity)\n",
      "Ethnicity  ApprovalStatus\n",
      "bb         +                  24\n",
      "           -                  31\n",
      "dd         +                   2\n",
      "           -                   4\n",
      "ff         +                   8\n",
      "           -                  47\n",
      "h          +                  87\n",
      "           -                  50\n",
      "j          +                   3\n",
      "           -                   5\n",
      "n          +                   2\n",
      "           -                   2\n",
      "o          +                   1\n",
      "           -                   1\n",
      "v          +                 165\n",
      "           -                 224\n",
      "z          +                   6\n",
      "           -                   2\n",
      "Name: ApprovalStatus, dtype: int64\n",
      "\n",
      "ApprovalStatus count by (PriorDefault)\n",
      "PriorDefault  ApprovalStatus\n",
      "f             +                  18\n",
      "              -                 291\n",
      "t             +                 280\n",
      "              -                  75\n",
      "Name: ApprovalStatus, dtype: int64\n",
      "\n",
      "ApprovalStatus count by (Employed)\n",
      "Employed  ApprovalStatus\n",
      "f         +                  94\n",
      "          -                 281\n",
      "t         +                 204\n",
      "          -                  85\n",
      "Name: ApprovalStatus, dtype: int64\n",
      "\n",
      "ApprovalStatus count by (DriversLicense)\n",
      "DriversLicense  ApprovalStatus\n",
      "f               +                 152\n",
      "                -                 203\n",
      "t               +                 146\n",
      "                -                 163\n",
      "Name: ApprovalStatus, dtype: int64\n",
      "\n",
      "ApprovalStatus count by (Citizen)\n",
      "Citizen  ApprovalStatus\n",
      "g        +                 282\n",
      "         -                 325\n",
      "p        +                   1\n",
      "         -                   1\n",
      "s        +                  15\n",
      "         -                  40\n",
      "Name: ApprovalStatus, dtype: int64\n",
      "\n",
      "ApprovalStatus count by (ZipCode)\n",
      "ZipCode  ApprovalStatus\n",
      "00000    +                 81\n",
      "         -                 50\n",
      "00017    -                  1\n",
      "00020    +                  1\n",
      "         -                  1\n",
      "                           ..\n",
      "00760    -                  1\n",
      "00840    +                  1\n",
      "00928    -                  1\n",
      "00980    -                  1\n",
      "02000    -                  1\n",
      "Name: ApprovalStatus, Length: 210, dtype: int64\n",
      "\n",
      "ApprovalStatus count by (ApprovalStatus)\n",
      "ApprovalStatus  ApprovalStatus\n",
      "+               +                 298\n",
      "-               -                 366\n",
      "Name: ApprovalStatus, dtype: int64\n",
      "\n"
     ]
    }
   ],
   "metadata": {}
  },
  {
   "cell_type": "code",
   "execution_count": 46,
   "source": [
    "# Look for outliers in numerical features\r\n",
    "# boxplots\r\n",
    "fig, ax = plt.subplots(1, len(features_num), figsize=(len(features_num)*5,5))\r\n",
    "for i in range(len(features_num)):\r\n",
    "    _ = sns.boxplot(ax=ax[i], data=df, x=features_num[i])\r\n",
    "plt.show()"
   ],
   "outputs": [
    {
     "output_type": "display_data",
     "data": {
      "text/plain": [
       "<Figure size 1800x360 with 5 Axes>"
      ],
      "image/png": "[encoded data removed]"
     },
     "metadata": {
      "needs_background": "light"
     }
    }
   ],
   "metadata": {}
  },
  {
   "cell_type": "markdown",
   "source": [
    "## Data Preprocessing\r\n",
    "Numerical features<br>\r\n",
    "- mean imputation\r\n",
    "- scaling\r\n",
    "\r\n",
    "Categorical features<br>\r\n",
    "- create dummies"
   ],
   "metadata": {}
  },
  {
   "cell_type": "code",
   "execution_count": 47,
   "source": [
    "# separate features and target variable\r\n",
    "X = df.iloc[:,[i for i in range(15)]]\r\n",
    "y = df.iloc[:,15]\r\n",
    "print(X.info())"
   ],
   "outputs": [
    {
     "output_type": "stream",
     "name": "stdout",
     "text": [
      "<class 'pandas.core.frame.DataFrame'>\n",
      "Int64Index: 664 entries, 0 to 689\n",
      "Data columns (total 15 columns):\n",
      " #   Column          Non-Null Count  Dtype  \n",
      "---  ------          --------------  -----  \n",
      " 0   Gender          664 non-null    object \n",
      " 1   Age             653 non-null    float64\n",
      " 2   Debt            664 non-null    float64\n",
      " 3   Married         664 non-null    object \n",
      " 4   BankCustomer    664 non-null    object \n",
      " 5   EducationLevel  664 non-null    object \n",
      " 6   Ethnicity       664 non-null    object \n",
      " 7   YearsEmployed   664 non-null    float64\n",
      " 8   PriorDefault    664 non-null    object \n",
      " 9   Employed        664 non-null    object \n",
      " 10  CreditScore     664 non-null    int64  \n",
      " 11  DriversLicense  664 non-null    object \n",
      " 12  Citizen         664 non-null    object \n",
      " 13  ZipCode         664 non-null    object \n",
      " 14  Income          664 non-null    int64  \n",
      "dtypes: float64(3), int64(2), object(10)\n",
      "memory usage: 83.0+ KB\n",
      "None\n"
     ]
    }
   ],
   "metadata": {}
  },
  {
   "cell_type": "code",
   "execution_count": 48,
   "source": [
    "# mean imputation\r\n",
    "X = X.fillna(X.mean())\r\n",
    "X.describe()\r\n",
    "X.info()"
   ],
   "outputs": [
    {
     "output_type": "stream",
     "name": "stdout",
     "text": [
      "<class 'pandas.core.frame.DataFrame'>\n",
      "Int64Index: 664 entries, 0 to 689\n",
      "Data columns (total 15 columns):\n",
      " #   Column          Non-Null Count  Dtype  \n",
      "---  ------          --------------  -----  \n",
      " 0   Gender          664 non-null    object \n",
      " 1   Age             664 non-null    float64\n",
      " 2   Debt            664 non-null    float64\n",
      " 3   Married         664 non-null    object \n",
      " 4   BankCustomer    664 non-null    object \n",
      " 5   EducationLevel  664 non-null    object \n",
      " 6   Ethnicity       664 non-null    object \n",
      " 7   YearsEmployed   664 non-null    float64\n",
      " 8   PriorDefault    664 non-null    object \n",
      " 9   Employed        664 non-null    object \n",
      " 10  CreditScore     664 non-null    int64  \n",
      " 11  DriversLicense  664 non-null    object \n",
      " 12  Citizen         664 non-null    object \n",
      " 13  ZipCode         664 non-null    object \n",
      " 14  Income          664 non-null    int64  \n",
      "dtypes: float64(3), int64(2), object(10)\n",
      "memory usage: 83.0+ KB\n"
     ]
    }
   ],
   "metadata": {}
  },
  {
   "cell_type": "code",
   "execution_count": 49,
   "source": [
    "# create dummies\r\n",
    "X = pd.get_dummies(X, drop_first=True)"
   ],
   "outputs": [],
   "metadata": {}
  },
  {
   "cell_type": "code",
   "execution_count": 50,
   "source": [
    "# scale\r\n",
    "for i in features_num:\r\n",
    "    # standardize\r\n",
    "    X[i] = (X[i] - X[i].mean()) / X[i].std()"
   ],
   "outputs": [],
   "metadata": {}
  },
  {
   "cell_type": "code",
   "execution_count": 51,
   "source": [
    "# replace Y\r\n",
    "y = y.replace({'+':1, '-':0})"
   ],
   "outputs": [],
   "metadata": {}
  },
  {
   "cell_type": "code",
   "execution_count": 52,
   "source": [
    "X.info()"
   ],
   "outputs": [
    {
     "output_type": "stream",
     "name": "stdout",
     "text": [
      "<class 'pandas.core.frame.DataFrame'>\n",
      "Int64Index: 664 entries, 0 to 689\n",
      "Columns: 201 entries, Age to ZipCode_02000\n",
      "dtypes: float64(5), uint8(196)\n",
      "memory usage: 158.2 KB\n"
     ]
    }
   ],
   "metadata": {}
  },
  {
   "cell_type": "markdown",
   "source": [
    "## Build model\r\n",
    "Build logistic regression model for classification"
   ],
   "metadata": {}
  },
  {
   "cell_type": "code",
   "execution_count": 53,
   "source": [
    "# separate train test\r\n",
    "from sklearn.model_selection import train_test_split\r\n",
    "X_train, X_test, y_train, y_test = train_test_split(X, y, test_size=0.2)"
   ],
   "outputs": [],
   "metadata": {}
  },
  {
   "cell_type": "code",
   "execution_count": 54,
   "source": [
    "# fit model with training data and predict for test data\r\n",
    "from sklearn.linear_model import LogisticRegression\r\n",
    "# instantiate model\r\n",
    "log_reg = LogisticRegression()\r\n",
    "# fit\r\n",
    "log_reg.fit(X_train, y_train)\r\n",
    "# predict and predict_proba\r\n",
    "y_pred = log_reg.predict(X_test)\r\n",
    "y_pred_proba = log_reg.predict_proba(X_test)"
   ],
   "outputs": [],
   "metadata": {}
  },
  {
   "cell_type": "code",
   "execution_count": 55,
   "source": [
    "# look at model performance\r\n",
    "from sklearn.metrics import confusion_matrix, classification_report\r\n",
    "\r\n",
    "# confusion matrix\r\n",
    "print('Confusion matrix')\r\n",
    "print(confusion_matrix(y_test, y_pred))\r\n",
    "# classification report\r\n",
    "print('Classification report')\r\n",
    "print(classification_report(y_test, y_pred))\r\n"
   ],
   "outputs": [
    {
     "output_type": "stream",
     "name": "stdout",
     "text": [
      "Confusion matrix\n",
      "[[63  7]\n",
      " [10 53]]\n",
      "Classification report\n",
      "              precision    recall  f1-score   support\n",
      "\n",
      "           0       0.86      0.90      0.88        70\n",
      "           1       0.88      0.84      0.86        63\n",
      "\n",
      "    accuracy                           0.87       133\n",
      "   macro avg       0.87      0.87      0.87       133\n",
      "weighted avg       0.87      0.87      0.87       133\n",
      "\n"
     ]
    }
   ],
   "metadata": {}
  },
  {
   "cell_type": "code",
   "execution_count": 56,
   "source": [
    "# do cross validation\r\n",
    "from sklearn.model_selection import cross_val_predict, cross_val_score\r\n",
    "# cross validation scores\r\n",
    "cv_scores = cross_val_score(log_reg, X, y, cv=9)\r\n",
    "print(cv_scores)\r\n",
    "print(np.mean(cv_scores))"
   ],
   "outputs": [
    {
     "output_type": "stream",
     "name": "stdout",
     "text": [
      "[0.45945946 0.83783784 1.         0.93243243 0.95945946 0.89189189\n",
      " 0.66216216 1.         0.89041096]\n",
      "0.8481838002385947\n"
     ]
    }
   ],
   "metadata": {}
  },
  {
   "cell_type": "code",
   "execution_count": 57,
   "source": [
    "# ROC\r\n",
    "from sklearn.metrics import plot_roc_curve\r\n",
    "plot_roc_curve(log_reg, X_test, y_test)"
   ],
   "outputs": [
    {
     "output_type": "execute_result",
     "data": {
      "text/plain": [
       "<sklearn.metrics._plot.roc_curve.RocCurveDisplay at 0x2ea87e7cb20>"
      ]
     },
     "metadata": {},
     "execution_count": 57
    },
    {
     "output_type": "display_data",
     "data": {
      "text/plain": [
       "<Figure size 432x288 with 1 Axes>"
      ],
      "image/png": "[encoded data removed]"
     },
     "metadata": {
      "needs_background": "light"
     }
    }
   ],
   "metadata": {}
  },
  {
   "cell_type": "markdown",
   "source": [
    "## Fine tune model\r\n",
    "look at logistic regression parameters and try to fine tune them\r\n",
    "\r\n",
    "1. So many dimensions (201, because of 166 zipcodes) with one hot encoding --> try label encoding\r\n",
    "2. Tune parameters"
   ],
   "metadata": {}
  }
 ],
 "metadata": {
  "interpreter": {
   "hash": "5e57bd0e9122681100ff0c01a77d03a96c53183a268dc781647c7935a0e65936"
  },
  "kernelspec": {
   "name": "python3",
   "display_name": "Python 3.8.8 64-bit ('base': conda)"
  },
  "language_info": {
   "codemirror_mode": {
    "name": "ipython",
    "version": 3
   },
   "file_extension": ".py",
   "mimetype": "text/x-python",
   "name": "python",
   "nbconvert_exporter": "python",
   "pygments_lexer": "ipython3",
   "version": "3.8.8"
  },
  "orig_nbformat": 4
 },
 "nbformat": 4,
 "nbformat_minor": 2
}