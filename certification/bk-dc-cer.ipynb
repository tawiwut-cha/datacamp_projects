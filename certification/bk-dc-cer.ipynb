{
 "cells": [
  {
   "cell_type": "markdown",
   "source": [
    "# DataCamp Certification Case Study\r\n",
    "\r\n",
    "### Project Brief\r\n",
    "\r\n",
    "You are on the data science team for a coffee company that is looking to expand their business into Ukraine. They want to get an understanding of the existing coffee shop market there.\r\n",
    "\r\n",
    "You have a dataset from Google businesses. It contains information about coffee shops in Ukraine. The marketing manager wants to identify the key coffee shop segments. They will use this to construct their marketing plan. In their current location, they split the market into 5 segments. The marketing manager wants to know how many segments are in this new market, and their key features.\r\n",
    "\r\n",
    "You will be presenting your findings to the Marketing Manager, who has no data science background.\r\n",
    "\r\n",
    "The data you will use for this analysis can be accessed here: `\"data/coffee_shops.csv\"`"
   ],
   "metadata": {}
  },
  {
   "cell_type": "markdown",
   "source": [
    "## Introduction\r\n",
    "\r\n",
    "* After identifying **Ukraine** as a potential place to expand our coffee business into, let's **identify and analyze clusters** of similar coffee shops.\r\n",
    "* This analysis will help us in:\r\n",
    "    * **understanding the current landscape** of coffee shops in Ukraine\r\n",
    "    * **learning what local customers** are attracted to\r\n",
    "    * **positioning ourselves** to best attract customers\r\n",
    "* Clustering analysis will be done on a dataset from Google businesses."
   ],
   "metadata": {}
  },
  {
   "cell_type": "markdown",
   "source": [
    "## Importing and cleaning the data"
   ],
   "metadata": {}
  },
  {
   "cell_type": "code",
   "execution_count": null,
   "source": [
    "# import packages\r\n",
    "import pandas as pd\r\n",
    "import numpy as np\r\n",
    "import matplotlib.pyplot as plt\r\n",
    "import seaborn as sns"
   ],
   "outputs": [],
   "metadata": {}
  },
  {
   "cell_type": "code",
   "execution_count": null,
   "source": [
    "# read data\r\n",
    "df = pd.read_csv('data/coffee_shops.csv')\r\n",
    "# sort by region\r\n",
    "df = df.sort_values(by='Region').reset_index(drop=True)\r\n",
    "# inspect data\r\n",
    "display(df.head())\r\n",
    "df.info()"
   ],
   "outputs": [],
   "metadata": {}
  },
  {
   "cell_type": "code",
   "execution_count": null,
   "source": [
    "# features of coffee shop completeness by region\r\n",
    "print('Before imputing missing values')\r\n",
    "display(df.groupby('Region').count())\r\n",
    "\r\n",
    "# numerical features\r\n",
    "NUM_FEAT = ['Rating','Reviews']\r\n",
    "# Rating, Reviews\r\n",
    "# don't have many missing values --> impute with mean\r\n",
    "df['Rating'].fillna(df['Rating'].mean(), inplace=True)\r\n",
    "df['Reviews'].fillna(df['Reviews'].mean(), inplace=True)\r\n",
    "\r\n",
    "# categorical features\r\n",
    "CAT_FEAT = ['Region', 'Place name', 'Place type', 'Price', 'Delivery option', 'Dine in option', 'Takeout option']\r\n",
    "# Region, Place name, Place type\r\n",
    "# no missing values\r\n",
    "\r\n",
    "# Price, Delivery option, Dine in option, Takeout option\r\n",
    "# some missing values --> impute nulls with N/A\r\n",
    "for cat in CAT_FEAT[3:]:\r\n",
    "    # display(df.groupby('Region')[cat].value_counts())\r\n",
    "    # print()\r\n",
    "    df[cat].fillna('N/A', inplace=True)\r\n",
    "\r\n",
    "print()\r\n",
    "print('After imputing missing values')\r\n",
    "display(df.groupby('Region').count())"
   ],
   "outputs": [],
   "metadata": {}
  },
  {
   "cell_type": "markdown",
   "source": [
    "## EDA"
   ],
   "metadata": {}
  },
  {
   "cell_type": "markdown",
   "source": [
    "### Dashboard\r\n",
    "\r\n",
    "* Key insights\r\n",
    "    * 200 coffee shops, 20 from each region\r\n",
    "    * All regions has more coffee shops who don't offer delivery options\r\n",
    "    * Lviv and Kiev are the top two regions with the most coffee shop reviews\r\n",
    "        * Most reviewed coffee shop, \"Lviv Coffee Manufacture\", has an overwhelming 17,937 reviews.\r\n",
    "        * Distant second place, \"Svit Kavy\" also in Lviv, has 2,931 reviews.\r\n",
    "    * All regions' coffee shops have median ratings around 4.6-4.8\r\n",
    "        * Can be susceptible to response bias"
   ],
   "metadata": {}
  },
  {
   "cell_type": "code",
   "execution_count": null,
   "source": [
    "# Quick overview of the data\r\n",
    "\r\n",
    "fig, ax = plt.subplots(2, 2, figsize=(20,10))\r\n",
    "\r\n",
    "# plot number of coffee shops by region\r\n",
    "sns.countplot(ax=ax[0][0], data=df, x='Region')\r\n",
    "ax[0][0].set_title('Number of Coffee Shops by Region')\r\n",
    "\r\n",
    "# plot count of shops with each delivery option in each region \r\n",
    "sns.countplot(ax=ax[0][1], data=df, x='Region', hue='Delivery option')\r\n",
    "ax[0][1].set_title('Number of Coffee Shops with Delivery option')\r\n",
    "\r\n",
    "# plot number of customer reviews by region\r\n",
    "sns.barplot(ax=ax[1][0], data=df, x='Region', y='Reviews', estimator=np.sum, ci=False)\r\n",
    "ax[1][0].set_title('Number of reviews by Region')\r\n",
    "\r\n",
    "# plot distribution of ratings by region\r\n",
    "sns.boxplot(ax=ax[1][1], data=df, x='Region', y='Rating')\r\n",
    "ax[1][1].set_title('Boxplot of coffee shops ratings by region')\r\n",
    "\r\n",
    "plt.show()"
   ],
   "outputs": [],
   "metadata": {}
  },
  {
   "cell_type": "markdown",
   "source": [
    "### Exploring other features\r\n",
    "\r\n",
    "* Most places are categorized as \"Coffee Shops\" and \"Cafes\" with 97 and 59 establishments respectively.\r\n",
    "* Looking at the place names, there are no major franchises in this dataset.\r\n",
    "* 116 from 122 places categorized in price ranges are in the middle range (\\$\\$). \r\n",
    "* For dine-in and takeout options, all 140 places with data present offer both."
   ],
   "metadata": {}
  },
  {
   "cell_type": "code",
   "execution_count": null,
   "source": [
    "# Top 5 most reviewed\r\n",
    "print('Top 5 Most reviewed coffee shops')\r\n",
    "display(df.sort_values(by='Reviews', ascending=False).head(5))\r\n",
    "\r\n",
    "# Top 5 rated\r\n",
    "print('Top 5 rated coffee shops')\r\n",
    "display(df.sort_values(by='Rating', ascending=False).head(5))"
   ],
   "outputs": [],
   "metadata": {}
  },
  {
   "cell_type": "code",
   "execution_count": null,
   "source": [
    "# look at place types\r\n",
    "print('Coffee shop types')\r\n",
    "display(df['Place type'].value_counts().sort_values(ascending=False))\r\n",
    "# 48.5% 'Coffee shop'\r\n",
    "# 29% 'Cafe'\r\n",
    "\r\n",
    "print()\r\n",
    "\r\n",
    "# look at place names are there franchises??\r\n",
    "print('Coffee shop names')\r\n",
    "display(df['Place name'].value_counts().sort_values(ascending=False).head(10))\r\n",
    "\r\n",
    "# NOTE: There are similar coffee shops names, that should be refering to the same establishments, registered differently.\r\n",
    "# example:  'Dom Kofe' ---- 'Dom Kofe, Mah.'\r\n",
    "#            'Don Marco' ---- 'Don Marco coffee shop'\r\n",
    "#         Will not try to correct them because neither I'm an expert in Ukrainian nor it seems to be major franchises."
   ],
   "outputs": [],
   "metadata": {}
  },
  {
   "cell_type": "code",
   "execution_count": null,
   "source": [
    "for cat in CAT_FEAT[3:]:\r\n",
    "    print('Count of category: {}'.format(cat))\r\n",
    "    display(df[cat].value_counts().sort_values(ascending=False))\r\n",
    "    print()\r\n",
    "# All places offers both Dine in and take out which should be true\r\n",
    "# Almost all are in the middle price point\r\n",
    "# Delivery Option 94/129 do not offer Delivery"
   ],
   "outputs": [],
   "metadata": {}
  },
  {
   "cell_type": "markdown",
   "source": [
    "## Clustering\r\n",
    "\r\n",
    "Compute clusters based on rating and number of reviews. <br>\r\n",
    "These are the two numerical features available to us that can tell how customers are feeling about each place:\r\n",
    "* rating - higher value suggests that customers love the place\r\n",
    "* reviews - higher value suggests customers traffic and social media presence <br>\r\n",
    "\r\n",
    "Then we'll explore the characteristics of each cluster.<br>\r\n",
    "We will use the K-means clustering algorithm. <br>\r\n"
   ],
   "metadata": {}
  },
  {
   "cell_type": "markdown",
   "source": [
    "### Preprocessing\r\n",
    "\r\n",
    "* remove one outlier, the super popular coffee shop\r\n",
    "* scale features to be on the same scale"
   ],
   "metadata": {}
  },
  {
   "cell_type": "code",
   "execution_count": null,
   "source": [
    "# Inspect num features\r\n",
    "fig, ax = plt.subplots(1, 2, figsize=(10,5))\r\n",
    "\r\n",
    "sns.boxplot(ax=ax[0], x=df['Rating'])\r\n",
    "# no extreme outliers\r\n",
    "sns.boxplot(ax=ax[1], x=df['Reviews'])\r\n",
    "# one outlier present, Lviv Coffee Manufacture has so many reviews, so popular\r\n",
    "\r\n",
    "print('Boxplots of numerical features')\r\n",
    "plt.show()"
   ],
   "outputs": [],
   "metadata": {}
  },
  {
   "cell_type": "code",
   "execution_count": null,
   "source": [
    "# Drop single outlier since it will affect kmeans clustering algorithm\r\n",
    "# we can study this super popular shop indepth if we want\r\n",
    "\r\n",
    "print('Before dropping outlier')\r\n",
    "display(df[NUM_FEAT].describe())\r\n",
    "sns.scatterplot(data=df, x='Rating', y='Reviews')\r\n",
    "plt.show()\r\n",
    "\r\n",
    "# remember we have one sole extreme outlier in reviews\r\n",
    "# remove the outlier, since it will affect the KMeans algorithm\r\n",
    "\r\n",
    "df_c = df[df.Reviews != df.Reviews.max()].reset_index(drop=True)\r\n",
    "\r\n",
    "print('After dropping outlier')\r\n",
    "display(df_c[NUM_FEAT].describe())\r\n",
    "sns.scatterplot(data=df_c, x='Rating', y='Reviews')\r\n",
    "plt.show()"
   ],
   "outputs": [],
   "metadata": {}
  },
  {
   "cell_type": "code",
   "execution_count": null,
   "source": [
    " # scale both features so that they are on the same scale\r\n",
    "from sklearn.preprocessing import StandardScaler\r\n",
    "\r\n",
    "X = df_c[NUM_FEAT]\r\n",
    "X_scaled = pd.DataFrame(StandardScaler().fit_transform(X), columns=['Scaled_Rating', 'Scaled_Reviews'])\r\n",
    "X_scaled.head()\r\n",
    "display(X_scaled.describe())\r\n",
    "sns.scatterplot(data=X_scaled, x='Scaled_Rating', y='Scaled_Reviews')\r\n",
    "\r\n",
    "plt.show()\r\n",
    "\r\n",
    "display(X.head())\r\n",
    "display(X_scaled.head())"
   ],
   "outputs": [],
   "metadata": {}
  },
  {
   "cell_type": "markdown",
   "source": [
    "### Build model\r\n",
    "\r\n",
    "* find appropriate amount of clusters by applying the elbow method\r\n",
    "    * Ukrainian coffee shops are nicely clustered into 5 clusters like our home market\r\n",
    "* visualize the clusters"
   ],
   "metadata": {}
  },
  {
   "cell_type": "code",
   "execution_count": null,
   "source": [
    "# fit k-means clustering and apply elbow method to find appropriate value for k\r\n",
    "from sklearn.cluster import KMeans\r\n",
    "\r\n",
    "# calculate kmeans from 1 to 9\r\n",
    "trial_k = list(range(1,10))\r\n",
    "inertias = []\r\n",
    "for i in trial_k:\r\n",
    "    km = KMeans(n_clusters=i)\r\n",
    "    km.fit(X_scaled)\r\n",
    "    inertias.append(km.inertia_)\r\n",
    "\r\n",
    "# plot elbow plot\r\n",
    "plt.plot(trial_k, inertias, marker='.')\r\n",
    "plt.title('Elbow method')\r\n",
    "plt.xlabel('n_clusters')\r\n",
    "plt.ylabel('inertia')\r\n",
    "\r\n",
    "plt.show()"
   ],
   "outputs": [],
   "metadata": {}
  },
  {
   "cell_type": "code",
   "execution_count": null,
   "source": [
    "# choose n_clusters = 5 from the elbow plot and compute kmeans clusters\r\n",
    "km = KMeans(n_clusters=5, random_state=69)\r\n",
    "y = pd.Series(km.fit_predict(X_scaled))\r\n",
    "# replace cluster numbers with color names\r\n",
    "colors = ['Red', 'Blue', 'Green', 'Cyan', 'Magenta']\r\n",
    "for i in range(0,5):\r\n",
    "    y = y.replace(i, colors[i])\r\n",
    "# add cluster label to df_c\r\n",
    "df_c['Cluster'] = y\r\n",
    "\r\n",
    "#Visualizing all the clusters \r\n",
    "plt.figure(figsize=(10,10))\r\n",
    "\r\n",
    "for i in range(0,5):\r\n",
    "    c = colors[i]\r\n",
    "    plt.scatter(df_c[df_c.Cluster == c]['Rating'],\r\n",
    "                df_c[df_c.Cluster == c]['Reviews'],\r\n",
    "                c=c,\r\n",
    "                label='{} cluster'.format(c))\r\n",
    "\r\n",
    "plt.title('Clusters of Ukrainian coffee shops')\r\n",
    "plt.xlabel('Rating')\r\n",
    "plt.ylabel('Reviews')\r\n",
    "plt.legend()\r\n",
    "plt.show()"
   ],
   "outputs": [],
   "metadata": {}
  },
  {
   "cell_type": "markdown",
   "source": [
    "## Insights and next steps\r\n",
    "\r\n",
    "Interesting places to look at:\r\n",
    "\r\n",
    "* Lviv Coffee Manufacture - Most reviewed coffee shop\r\n",
    "    * suggests highest customer base and social media presence\r\n",
    "    * model of what the local customers love\r\n",
    "* Green cluster - Highly rated and reviewed\r\n",
    "    * suggests very popular places that locals love\r\n",
    "    * delivery option may be the key to success\r\n",
    "        * highest proportion of places that offer delivery from all clusters (~50%) \r\n",
    "    * opportunities arise in region where there are no coffee shops from this cluster\r\n",
    "        * Kherson and Khrivoy Rog do not have any of these well performing coffee shops\r\n",
    "        * at least 14 out of 20 coffee shops in Kherson do not offer delivery\r\n",
    "\r\n",
    "Next steps:\r\n",
    "* Conduct an in-depth research on Lviv Coffee Manufacture to see what makes them successful in the Ukrainian market\r\n",
    "* Conduct a feasibility study on coffee delivery in the Kherson region to try and capitilize on this opportunity "
   ],
   "metadata": {}
  },
  {
   "cell_type": "code",
   "execution_count": null,
   "source": [
    "# Inspect Lviv Coffee Manufacture\r\n",
    "df[df['Place name'] == 'Lviv Coffee Manufacture']\r\n",
    "\r\n",
    "# probably an online review and an inhouse review data respectively"
   ],
   "outputs": [],
   "metadata": {}
  },
  {
   "cell_type": "code",
   "execution_count": null,
   "source": [
    "# Amount of coffee shops in each cluster\r\n",
    "sns.countplot(data=df_c, x='Cluster')\r\n",
    "plt.show()"
   ],
   "outputs": [],
   "metadata": {}
  },
  {
   "cell_type": "code",
   "execution_count": null,
   "source": [
    "# Inspect regions in each cluter\r\n",
    "plt.figure(figsize=(10,10))\r\n",
    "sns.countplot(data=df_c, x='Cluster', hue='Region')\r\n",
    "plt.show()"
   ],
   "outputs": [],
   "metadata": {}
  },
  {
   "cell_type": "code",
   "execution_count": null,
   "source": [
    "# Inspect delivery option in each cluter\r\n",
    "sns.countplot(data=df_c, x='Cluster', hue='Delivery option')\r\n",
    "plt.show()"
   ],
   "outputs": [],
   "metadata": {}
  }
 ],
 "metadata": {
  "orig_nbformat": 4,
  "language_info": {
   "name": "python",
   "version": "3.8.8",
   "mimetype": "text/x-python",
   "codemirror_mode": {
    "name": "ipython",
    "version": 3
   },
   "pygments_lexer": "ipython3",
   "nbconvert_exporter": "python",
   "file_extension": ".py"
  },
  "kernelspec": {
   "name": "python3",
   "display_name": "Python 3.8.8 64-bit ('base': conda)"
  },
  "interpreter": {
   "hash": "5e57bd0e9122681100ff0c01a77d03a96c53183a268dc781647c7935a0e65936"
  }
 },
 "nbformat": 4,
 "nbformat_minor": 2
}