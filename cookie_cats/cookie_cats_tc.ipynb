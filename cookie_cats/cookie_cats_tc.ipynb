{
 "cells": [
  {
   "cell_type": "markdown",
   "metadata": {},
   "source": [
    "Cookie Cats is a hugely popular mobile puzzle game developed by Tactile Entertainment. It's a classic \"connect three\" style puzzle game where the player must connect tiles of the same color in order to clear the board and win the level. It also features singing cats. We're not kidding!\n",
    "\n",
    "As players progress through the game they will encounter gates that force them to wait some time before they can progress or make an in-app purchase. In this project, we will analyze the result of an A/B test where the first gate in Cookie Cats was moved from level 30 to level 40. In particular, we will analyze the impact on player retention."
   ]
  },
  {
   "cell_type": "code",
   "execution_count": 1,
   "metadata": {},
   "outputs": [],
   "source": [
    "import pandas as pd\n",
    "import matplotlib.pyplot as plt\n",
    "import seaborn as sns\n",
    "import numpy as np"
   ]
  },
  {
   "cell_type": "code",
   "execution_count": 2,
   "metadata": {},
   "outputs": [
    {
     "data": {
      "text/html": [
       "<div>\n",
       "<style scoped>\n",
       "    .dataframe tbody tr th:only-of-type {\n",
       "        vertical-align: middle;\n",
       "    }\n",
       "\n",
       "    .dataframe tbody tr th {\n",
       "        vertical-align: top;\n",
       "    }\n",
       "\n",
       "    .dataframe thead th {\n",
       "        text-align: right;\n",
       "    }\n",
       "</style>\n",
       "<table border=\"1\" class=\"dataframe\">\n",
       "  <thead>\n",
       "    <tr style=\"text-align: right;\">\n",
       "      <th></th>\n",
       "      <th>userid</th>\n",
       "      <th>version</th>\n",
       "      <th>sum_gamerounds</th>\n",
       "      <th>retention_1</th>\n",
       "      <th>retention_7</th>\n",
       "    </tr>\n",
       "  </thead>\n",
       "  <tbody>\n",
       "    <tr>\n",
       "      <th>0</th>\n",
       "      <td>116</td>\n",
       "      <td>gate_30</td>\n",
       "      <td>3</td>\n",
       "      <td>False</td>\n",
       "      <td>False</td>\n",
       "    </tr>\n",
       "    <tr>\n",
       "      <th>1</th>\n",
       "      <td>337</td>\n",
       "      <td>gate_30</td>\n",
       "      <td>38</td>\n",
       "      <td>True</td>\n",
       "      <td>False</td>\n",
       "    </tr>\n",
       "    <tr>\n",
       "      <th>2</th>\n",
       "      <td>377</td>\n",
       "      <td>gate_40</td>\n",
       "      <td>165</td>\n",
       "      <td>True</td>\n",
       "      <td>False</td>\n",
       "    </tr>\n",
       "    <tr>\n",
       "      <th>3</th>\n",
       "      <td>483</td>\n",
       "      <td>gate_40</td>\n",
       "      <td>1</td>\n",
       "      <td>False</td>\n",
       "      <td>False</td>\n",
       "    </tr>\n",
       "    <tr>\n",
       "      <th>4</th>\n",
       "      <td>488</td>\n",
       "      <td>gate_40</td>\n",
       "      <td>179</td>\n",
       "      <td>True</td>\n",
       "      <td>True</td>\n",
       "    </tr>\n",
       "  </tbody>\n",
       "</table>\n",
       "</div>"
      ],
      "text/plain": [
       "   userid  version  sum_gamerounds  retention_1  retention_7\n",
       "0     116  gate_30               3        False        False\n",
       "1     337  gate_30              38         True        False\n",
       "2     377  gate_40             165         True        False\n",
       "3     483  gate_40               1        False        False\n",
       "4     488  gate_40             179         True         True"
      ]
     },
     "execution_count": 2,
     "metadata": {},
     "output_type": "execute_result"
    }
   ],
   "source": [
    "# import csv and show head\n",
    "df = pd.read_csv('cookie_cats.csv')\n",
    "df.head()"
   ]
  },
  {
   "cell_type": "code",
   "execution_count": 3,
   "metadata": {},
   "outputs": [
    {
     "name": "stdout",
     "output_type": "stream",
     "text": [
      "<class 'pandas.core.frame.DataFrame'>\n",
      "RangeIndex: 90189 entries, 0 to 90188\n",
      "Data columns (total 5 columns):\n",
      " #   Column          Non-Null Count  Dtype \n",
      "---  ------          --------------  ----- \n",
      " 0   userid          90189 non-null  int64 \n",
      " 1   version         90189 non-null  object\n",
      " 2   sum_gamerounds  90189 non-null  int64 \n",
      " 3   retention_1     90189 non-null  bool  \n",
      " 4   retention_7     90189 non-null  bool  \n",
      "dtypes: bool(2), int64(2), object(1)\n",
      "memory usage: 2.2+ MB\n"
     ]
    }
   ],
   "source": [
    "# look for nulls and check data type\n",
    "df.info()"
   ]
  },
  {
   "cell_type": "code",
   "execution_count": 4,
   "metadata": {},
   "outputs": [],
   "source": [
    "# no nulls\n",
    "# change version datatype to category for quick processing\n",
    "df['version'] = df.version.astype('category')"
   ]
  },
  {
   "cell_type": "markdown",
   "metadata": {},
   "source": [
    "Data dictionary\n",
    "    userid (int) - unique id for each user\n",
    "    version (category) - version of the game they played (either gate at level 30 or gate at level 40)\n",
    "    sum_gamerounds (int) - rounds played\n",
    "    retention_1 (bool) - did the player come back and play 1 day after installing?\n",
    "    retention_7 (bool) - did the player come back and play 7 days after installing?"
   ]
  },
  {
   "cell_type": "code",
   "execution_count": 5,
   "metadata": {},
   "outputs": [
    {
     "name": "stdout",
     "output_type": "stream",
     "text": [
      "Is userid unique: True\n",
      "Versions: ('gate_30', 'gate_40')\n"
     ]
    },
    {
     "data": {
      "text/plain": [
       "count    90189.000000\n",
       "mean        51.872457\n",
       "std        195.050858\n",
       "min          0.000000\n",
       "25%          5.000000\n",
       "50%         16.000000\n",
       "75%         51.000000\n",
       "max      49854.000000\n",
       "Name: sum_gamerounds, dtype: float64"
      ]
     },
     "metadata": {},
     "output_type": "display_data"
    }
   ],
   "source": [
    "# is your understanding correct, do some sanity checks\n",
    "\n",
    "# user_id --> unique or not?\n",
    "print(\"Is userid unique:\",df.userid.nunique() == df.shape[0])\n",
    "\n",
    "# version --> only two? is naming consistent?\n",
    "print(\"Versions:\", tuple(df.version.unique()))\n",
    "\n",
    "# sum_gamerounds --> are there any weird values\n",
    "display(df.sum_gamerounds.describe())"
   ]
  },
  {
   "cell_type": "code",
   "execution_count": 6,
   "metadata": {},
   "outputs": [
    {
     "data": {
      "text/plain": [
       "0          No retention\n",
       "1        Some retention\n",
       "2        Some retention\n",
       "3          No retention\n",
       "4        High retention\n",
       "              ...      \n",
       "90184    Some retention\n",
       "90185      No retention\n",
       "90186    Some retention\n",
       "90187    Some retention\n",
       "90188      No retention\n",
       "Name: retention_level, Length: 90189, dtype: category\n",
       "Categories (3, object): ['No retention' < 'Some retention' < 'High retention']"
      ]
     },
     "execution_count": 6,
     "metadata": {},
     "output_type": "execute_result"
    }
   ],
   "source": [
    "# retention_1, retention_7 --> let's assign retention levelss for each case\n",
    "RETENTION_LEVELS = ['No retention', 'Some retention', 'High retention']\n",
    "def assign_retention_levels(df):\n",
    "    if (df.retention_1 == True) and (df.retention_7 == True):\n",
    "        return RETENTION_LEVELS[2]\n",
    "    elif (df.retention_1 == False) and (df.retention_7 == False):\n",
    "        return RETENTION_LEVELS[0]\n",
    "    else:\n",
    "        return RETENTION_LEVELS[1]\n",
    "\n",
    "df['retention_level'] = df.apply(assign_retention_levels, axis=1)\n",
    "\n",
    "df['retention_level'] = pd.Categorical(df['retention_level'], categories = RETENTION_LEVELS, ordered=True)\n",
    "\n",
    "df['retention_level']"
   ]
  },
  {
   "cell_type": "code",
   "execution_count": 13,
   "metadata": {},
   "outputs": [
    {
     "data": {
      "text/plain": [
       "Text(0.5, 1.0, 'Retention levels for each version of the game')"
      ]
     },
     "execution_count": 13,
     "metadata": {},
     "output_type": "execute_result"
    },
    {
     "data": {
      "image/png": "[encoded data removed]",
      "text/plain": [
       "<Figure size 720x2160 with 3 Axes>"
      ]
     },
     "metadata": {
      "needs_background": "light"
     },
     "output_type": "display_data"
    }
   ],
   "source": [
    "# Graphical EDA\n",
    "fig, (ax1,ax2,ax3) = plt.subplots(3, figsize=(10,30))\n",
    "\n",
    "# amt of people in each group\n",
    "sns.countplot(data=df, x='version', ax=ax1)\n",
    "ax1.set_title('Users assigned to each version of the game')\n",
    "# how many games does each group play on average\n",
    "sns.barplot(data=df, x='version', y='sum_gamerounds', ax=ax2)\n",
    "ax2.set_title('Average game rounds played per user')\n",
    "# retention levels in each group\n",
    "sns.countplot(data=df, x='version', hue='retention_level', ax=ax3)\n",
    "ax3.set_title('Retention levels for each version of the game')"
   ]
  },
  {
   "cell_type": "markdown",
   "metadata": {},
   "source": [
    "1. Users are equally assigned to each version\n",
    "2. Users played more rounds on average in version gate_30 (still we have to test this)\n",
    "3. The retention compositions for both versions look very similar (let's find a way to quantify this)"
   ]
  },
  {
   "cell_type": "code",
   "execution_count": null,
   "metadata": {},
   "outputs": [],
   "source": [
    "# A/B test\n",
    "\n",
    "# Null hyp: no diff in rounds played\n",
    "# Test stat: diff in rounds played\n",
    "\n",
    "# Observed difference\n",
    "\n",
    "# Generate permutation samples and replicates\n",
    "\n",
    "\n",
    "# define retention ratio\n",
    "\n",
    "# Null hyp: no diff full retention ratio\n",
    "# Test stat: diff in rounds played\n",
    "\n",
    "# Observed difference\n",
    "\n",
    "# Generate permutation samples and replicates"
   ]
  }
 ],
 "metadata": {
  "kernelspec": {
   "display_name": "Python 3",
   "language": "python",
   "name": "python3"
  },
  "language_info": {
   "codemirror_mode": {
    "name": "ipython",
    "version": 3
   },
   "file_extension": ".py",
   "mimetype": "text/x-python",
   "name": "python",
   "nbconvert_exporter": "python",
   "pygments_lexer": "ipython3",
   "version": "3.7.6"
  }
 },
 "nbformat": 4,
 "nbformat_minor": 4
}
