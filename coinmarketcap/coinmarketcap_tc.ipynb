{
 "cells": [
  {
   "cell_type": "markdown",
   "metadata": {},
   "source": [
    "Exploring the Bitcoin Cryptocurrency Market\n",
    "\n",
    "You will explore the market capitalization of Bitcoin and other cryptocurrencies."
   ]
  },
  {
   "cell_type": "code",
   "execution_count": 69,
   "metadata": {},
   "outputs": [],
   "source": [
    "import pandas as pd\n",
    "import numpy as np\n",
    "import seaborn as sns\n",
    "import matplotlib.pyplot as plt"
   ]
  },
  {
   "cell_type": "code",
   "execution_count": 70,
   "metadata": {},
   "outputs": [
    {
     "name": "stdout",
     "output_type": "stream",
     "text": [
      "<class 'pandas.core.frame.DataFrame'>\n",
      "RangeIndex: 1326 entries, 0 to 1325\n",
      "Data columns (total 16 columns):\n",
      " #   Column              Non-Null Count  Dtype  \n",
      "---  ------              --------------  -----  \n",
      " 0   Unnamed: 0          1326 non-null   int64  \n",
      " 1   24h_volume_usd      1270 non-null   float64\n",
      " 2   available_supply    1031 non-null   float64\n",
      " 3   id                  1326 non-null   object \n",
      " 4   last_updated        1326 non-null   int64  \n",
      " 5   market_cap_usd      1031 non-null   float64\n",
      " 6   max_supply          215 non-null    float64\n",
      " 7   name                1326 non-null   object \n",
      " 8   percent_change_1h   1273 non-null   float64\n",
      " 9   percent_change_24h  1270 non-null   float64\n",
      " 10  percent_change_7d   1283 non-null   float64\n",
      " 11  price_btc           1326 non-null   float64\n",
      " 12  price_usd           1326 non-null   float64\n",
      " 13  rank                1326 non-null   int64  \n",
      " 14  symbol              1326 non-null   object \n",
      " 15  total_supply        1211 non-null   float64\n",
      "dtypes: float64(10), int64(3), object(3)\n",
      "memory usage: 165.9+ KB\n"
     ]
    }
   ],
   "source": [
    "df = pd.read_csv('coinmarketcap_06122017.csv')\n",
    "df.info()"
   ]
  },
  {
   "cell_type": "code",
   "execution_count": 71,
   "metadata": {},
   "outputs": [
    {
     "data": {
      "text/html": [
       "<div>\n",
       "<style scoped>\n",
       "    .dataframe tbody tr th:only-of-type {\n",
       "        vertical-align: middle;\n",
       "    }\n",
       "\n",
       "    .dataframe tbody tr th {\n",
       "        vertical-align: top;\n",
       "    }\n",
       "\n",
       "    .dataframe thead th {\n",
       "        text-align: right;\n",
       "    }\n",
       "</style>\n",
       "<table border=\"1\" class=\"dataframe\">\n",
       "  <thead>\n",
       "    <tr style=\"text-align: right;\">\n",
       "      <th></th>\n",
       "      <th>Unnamed: 0</th>\n",
       "      <th>24h_volume_usd</th>\n",
       "      <th>available_supply</th>\n",
       "      <th>id</th>\n",
       "      <th>last_updated</th>\n",
       "      <th>market_cap_usd</th>\n",
       "      <th>max_supply</th>\n",
       "      <th>name</th>\n",
       "      <th>percent_change_1h</th>\n",
       "      <th>percent_change_24h</th>\n",
       "      <th>percent_change_7d</th>\n",
       "      <th>price_btc</th>\n",
       "      <th>price_usd</th>\n",
       "      <th>rank</th>\n",
       "      <th>symbol</th>\n",
       "      <th>total_supply</th>\n",
       "    </tr>\n",
       "  </thead>\n",
       "  <tbody>\n",
       "    <tr>\n",
       "      <th>0</th>\n",
       "      <td>0</td>\n",
       "      <td>9.007640e+09</td>\n",
       "      <td>1.672352e+07</td>\n",
       "      <td>bitcoin</td>\n",
       "      <td>1512549554</td>\n",
       "      <td>2.130493e+11</td>\n",
       "      <td>2.100000e+07</td>\n",
       "      <td>Bitcoin</td>\n",
       "      <td>0.12</td>\n",
       "      <td>7.33</td>\n",
       "      <td>17.45</td>\n",
       "      <td>1.000000</td>\n",
       "      <td>12739.500000</td>\n",
       "      <td>1</td>\n",
       "      <td>BTC</td>\n",
       "      <td>1.672352e+07</td>\n",
       "    </tr>\n",
       "    <tr>\n",
       "      <th>1</th>\n",
       "      <td>1</td>\n",
       "      <td>1.551330e+09</td>\n",
       "      <td>9.616537e+07</td>\n",
       "      <td>ethereum</td>\n",
       "      <td>1512549553</td>\n",
       "      <td>4.352945e+10</td>\n",
       "      <td>NaN</td>\n",
       "      <td>Ethereum</td>\n",
       "      <td>-0.18</td>\n",
       "      <td>-3.93</td>\n",
       "      <td>-7.33</td>\n",
       "      <td>0.036177</td>\n",
       "      <td>452.652000</td>\n",
       "      <td>2</td>\n",
       "      <td>ETH</td>\n",
       "      <td>9.616537e+07</td>\n",
       "    </tr>\n",
       "    <tr>\n",
       "      <th>2</th>\n",
       "      <td>2</td>\n",
       "      <td>1.111350e+09</td>\n",
       "      <td>1.684044e+07</td>\n",
       "      <td>bitcoin-cash</td>\n",
       "      <td>1512549578</td>\n",
       "      <td>2.529585e+10</td>\n",
       "      <td>2.100000e+07</td>\n",
       "      <td>Bitcoin Cash</td>\n",
       "      <td>1.65</td>\n",
       "      <td>-5.51</td>\n",
       "      <td>-4.75</td>\n",
       "      <td>0.120050</td>\n",
       "      <td>1502.090000</td>\n",
       "      <td>3</td>\n",
       "      <td>BCH</td>\n",
       "      <td>1.684044e+07</td>\n",
       "    </tr>\n",
       "    <tr>\n",
       "      <th>3</th>\n",
       "      <td>3</td>\n",
       "      <td>2.936090e+09</td>\n",
       "      <td>2.779530e+09</td>\n",
       "      <td>iota</td>\n",
       "      <td>1512549571</td>\n",
       "      <td>1.475225e+10</td>\n",
       "      <td>2.779530e+09</td>\n",
       "      <td>IOTA</td>\n",
       "      <td>-2.38</td>\n",
       "      <td>83.35</td>\n",
       "      <td>255.82</td>\n",
       "      <td>0.000424</td>\n",
       "      <td>5.307460</td>\n",
       "      <td>4</td>\n",
       "      <td>MIOTA</td>\n",
       "      <td>2.779530e+09</td>\n",
       "    </tr>\n",
       "    <tr>\n",
       "      <th>4</th>\n",
       "      <td>4</td>\n",
       "      <td>2.315050e+08</td>\n",
       "      <td>3.873915e+10</td>\n",
       "      <td>ripple</td>\n",
       "      <td>1512549541</td>\n",
       "      <td>9.365343e+09</td>\n",
       "      <td>1.000000e+11</td>\n",
       "      <td>Ripple</td>\n",
       "      <td>0.56</td>\n",
       "      <td>-3.70</td>\n",
       "      <td>-14.79</td>\n",
       "      <td>0.000019</td>\n",
       "      <td>0.241754</td>\n",
       "      <td>5</td>\n",
       "      <td>XRP</td>\n",
       "      <td>9.999309e+10</td>\n",
       "    </tr>\n",
       "  </tbody>\n",
       "</table>\n",
       "</div>"
      ],
      "text/plain": [
       "   Unnamed: 0  24h_volume_usd  available_supply            id  last_updated  \\\n",
       "0           0    9.007640e+09      1.672352e+07       bitcoin    1512549554   \n",
       "1           1    1.551330e+09      9.616537e+07      ethereum    1512549553   \n",
       "2           2    1.111350e+09      1.684044e+07  bitcoin-cash    1512549578   \n",
       "3           3    2.936090e+09      2.779530e+09          iota    1512549571   \n",
       "4           4    2.315050e+08      3.873915e+10        ripple    1512549541   \n",
       "\n",
       "   market_cap_usd    max_supply          name  percent_change_1h  \\\n",
       "0    2.130493e+11  2.100000e+07       Bitcoin               0.12   \n",
       "1    4.352945e+10           NaN      Ethereum              -0.18   \n",
       "2    2.529585e+10  2.100000e+07  Bitcoin Cash               1.65   \n",
       "3    1.475225e+10  2.779530e+09          IOTA              -2.38   \n",
       "4    9.365343e+09  1.000000e+11        Ripple               0.56   \n",
       "\n",
       "   percent_change_24h  percent_change_7d  price_btc     price_usd  rank  \\\n",
       "0                7.33              17.45   1.000000  12739.500000     1   \n",
       "1               -3.93              -7.33   0.036177    452.652000     2   \n",
       "2               -5.51              -4.75   0.120050   1502.090000     3   \n",
       "3               83.35             255.82   0.000424      5.307460     4   \n",
       "4               -3.70             -14.79   0.000019      0.241754     5   \n",
       "\n",
       "  symbol  total_supply  \n",
       "0    BTC  1.672352e+07  \n",
       "1    ETH  9.616537e+07  \n",
       "2    BCH  1.684044e+07  \n",
       "3  MIOTA  2.779530e+09  \n",
       "4    XRP  9.999309e+10  "
      ]
     },
     "execution_count": 71,
     "metadata": {},
     "output_type": "execute_result"
    }
   ],
   "source": [
    "df.head(5)"
   ]
  },
  {
   "cell_type": "markdown",
   "metadata": {},
   "source": [
    "Data dictionary\n",
    "\n",
    "Describes each crypto currency at 6th Dec 2017\n",
    "\n",
    "Choose column that you want to work with\n",
    "\n",
    "name\n",
    "symbol\n",
    "rank\n",
    "price_usd\n",
    "    these four have no nulls\n",
    "    \n",
    "available_supply\n",
    "total_supply\n",
    "    there are some rows where total is not null but avail is\n",
    "    df[df.available_supply.isna() & ~df.total_supply.isna()]\n",
    "    \n",
    "market_cap_usd\n",
    "    = available_supply * price_usd (will be null if available_supply is null)\n",
    "    (df.available_supply.isna() != df.market_cap_usd.isna()).sum()"
   ]
  },
  {
   "cell_type": "code",
   "execution_count": 72,
   "metadata": {},
   "outputs": [
    {
     "name": "stdout",
     "output_type": "stream",
     "text": [
      "<class 'pandas.core.frame.DataFrame'>\n",
      "RangeIndex: 1326 entries, 0 to 1325\n",
      "Data columns (total 6 columns):\n",
      " #   Column            Non-Null Count  Dtype  \n",
      "---  ------            --------------  -----  \n",
      " 0   name              1326 non-null   object \n",
      " 1   symbol            1326 non-null   object \n",
      " 2   price_usd         1326 non-null   float64\n",
      " 3   available_supply  1031 non-null   float64\n",
      " 4   total_supply      1211 non-null   float64\n",
      " 5   market_cap_usd    1031 non-null   float64\n",
      "dtypes: float64(4), object(2)\n",
      "memory usage: 62.3+ KB\n"
     ]
    }
   ],
   "source": [
    "# select only columns of interest\n",
    "df = df[['name',\n",
    "         'symbol',\n",
    "         'price_usd',\n",
    "         'available_supply',\n",
    "         'total_supply',\n",
    "         'market_cap_usd']]\n",
    "df.info()"
   ]
  },
  {
   "cell_type": "code",
   "execution_count": 73,
   "metadata": {},
   "outputs": [],
   "source": [
    "# # clean data for market_cap_usd\n",
    "# # 2 cases\n",
    "\n",
    "# # total_supply is null ==> no hope ==> remove rows\n",
    "# df = df[~df.total_supply.isna()]\n",
    "# # only available_supply is null, but total_supply is not null ==> assume available supply is equal to total_supply\n",
    "# condition = (df.available_supply.isna() & ~df.total_supply.isna())\n",
    "# df.available_supply.fillna(df[condition].total_supply, inplace=True)"
   ]
  },
  {
   "cell_type": "code",
   "execution_count": 90,
   "metadata": {},
   "outputs": [
    {
     "data": {
      "text/html": [
       "<div>\n",
       "<style scoped>\n",
       "    .dataframe tbody tr th:only-of-type {\n",
       "        vertical-align: middle;\n",
       "    }\n",
       "\n",
       "    .dataframe tbody tr th {\n",
       "        vertical-align: top;\n",
       "    }\n",
       "\n",
       "    .dataframe thead th {\n",
       "        text-align: right;\n",
       "    }\n",
       "</style>\n",
       "<table border=\"1\" class=\"dataframe\">\n",
       "  <thead>\n",
       "    <tr style=\"text-align: right;\">\n",
       "      <th></th>\n",
       "      <th>name</th>\n",
       "      <th>symbol</th>\n",
       "      <th>price_usd</th>\n",
       "      <th>available_supply</th>\n",
       "      <th>total_supply</th>\n",
       "      <th>market_cap_usd</th>\n",
       "    </tr>\n",
       "  </thead>\n",
       "  <tbody>\n",
       "    <tr>\n",
       "      <th>0</th>\n",
       "      <td>Bitcoin</td>\n",
       "      <td>BTC</td>\n",
       "      <td>12739.500000</td>\n",
       "      <td>1.672352e+07</td>\n",
       "      <td>1.672352e+07</td>\n",
       "      <td>2.130493e+11</td>\n",
       "    </tr>\n",
       "    <tr>\n",
       "      <th>1</th>\n",
       "      <td>Ethereum</td>\n",
       "      <td>ETH</td>\n",
       "      <td>452.652000</td>\n",
       "      <td>9.616537e+07</td>\n",
       "      <td>9.616537e+07</td>\n",
       "      <td>4.352945e+10</td>\n",
       "    </tr>\n",
       "    <tr>\n",
       "      <th>2</th>\n",
       "      <td>Bitcoin Cash</td>\n",
       "      <td>BCH</td>\n",
       "      <td>1502.090000</td>\n",
       "      <td>1.684044e+07</td>\n",
       "      <td>1.684044e+07</td>\n",
       "      <td>2.529585e+10</td>\n",
       "    </tr>\n",
       "    <tr>\n",
       "      <th>3</th>\n",
       "      <td>IOTA</td>\n",
       "      <td>MIOTA</td>\n",
       "      <td>5.307460</td>\n",
       "      <td>2.779530e+09</td>\n",
       "      <td>2.779530e+09</td>\n",
       "      <td>1.475225e+10</td>\n",
       "    </tr>\n",
       "    <tr>\n",
       "      <th>4</th>\n",
       "      <td>Ripple</td>\n",
       "      <td>XRP</td>\n",
       "      <td>0.241754</td>\n",
       "      <td>3.873915e+10</td>\n",
       "      <td>9.999309e+10</td>\n",
       "      <td>9.365343e+09</td>\n",
       "    </tr>\n",
       "    <tr>\n",
       "      <th>...</th>\n",
       "      <td>...</td>\n",
       "      <td>...</td>\n",
       "      <td>...</td>\n",
       "      <td>...</td>\n",
       "      <td>...</td>\n",
       "      <td>...</td>\n",
       "    </tr>\n",
       "    <tr>\n",
       "      <th>1026</th>\n",
       "      <td>Future Digital Currency</td>\n",
       "      <td>FDC</td>\n",
       "      <td>0.000091</td>\n",
       "      <td>2.753201e+06</td>\n",
       "      <td>1.002753e+09</td>\n",
       "      <td>2.512896e+02</td>\n",
       "    </tr>\n",
       "    <tr>\n",
       "      <th>1027</th>\n",
       "      <td>Environ</td>\n",
       "      <td>ENV</td>\n",
       "      <td>0.000001</td>\n",
       "      <td>1.327175e+08</td>\n",
       "      <td>9.327175e+08</td>\n",
       "      <td>1.355842e+02</td>\n",
       "    </tr>\n",
       "    <tr>\n",
       "      <th>1028</th>\n",
       "      <td>CaliphCoin</td>\n",
       "      <td>CALC</td>\n",
       "      <td>0.001145</td>\n",
       "      <td>8.714000e+04</td>\n",
       "      <td>1.485871e+08</td>\n",
       "      <td>9.979708e+01</td>\n",
       "    </tr>\n",
       "    <tr>\n",
       "      <th>1029</th>\n",
       "      <td>Falcoin</td>\n",
       "      <td>FAL</td>\n",
       "      <td>0.000119</td>\n",
       "      <td>1.967660e+05</td>\n",
       "      <td>1.701968e+08</td>\n",
       "      <td>2.339508e+01</td>\n",
       "    </tr>\n",
       "    <tr>\n",
       "      <th>1030</th>\n",
       "      <td>AppleCoin</td>\n",
       "      <td>APW</td>\n",
       "      <td>0.000125</td>\n",
       "      <td>7.924200e+04</td>\n",
       "      <td>1.600079e+09</td>\n",
       "      <td>9.914997e+00</td>\n",
       "    </tr>\n",
       "  </tbody>\n",
       "</table>\n",
       "<p>1031 rows × 6 columns</p>\n",
       "</div>"
      ],
      "text/plain": [
       "                         name symbol     price_usd  available_supply  \\\n",
       "0                     Bitcoin    BTC  12739.500000      1.672352e+07   \n",
       "1                    Ethereum    ETH    452.652000      9.616537e+07   \n",
       "2                Bitcoin Cash    BCH   1502.090000      1.684044e+07   \n",
       "3                        IOTA  MIOTA      5.307460      2.779530e+09   \n",
       "4                      Ripple    XRP      0.241754      3.873915e+10   \n",
       "...                       ...    ...           ...               ...   \n",
       "1026  Future Digital Currency    FDC      0.000091      2.753201e+06   \n",
       "1027                  Environ    ENV      0.000001      1.327175e+08   \n",
       "1028               CaliphCoin   CALC      0.001145      8.714000e+04   \n",
       "1029                  Falcoin    FAL      0.000119      1.967660e+05   \n",
       "1030                AppleCoin    APW      0.000125      7.924200e+04   \n",
       "\n",
       "      total_supply  market_cap_usd  \n",
       "0     1.672352e+07    2.130493e+11  \n",
       "1     9.616537e+07    4.352945e+10  \n",
       "2     1.684044e+07    2.529585e+10  \n",
       "3     2.779530e+09    1.475225e+10  \n",
       "4     9.999309e+10    9.365343e+09  \n",
       "...            ...             ...  \n",
       "1026  1.002753e+09    2.512896e+02  \n",
       "1027  9.327175e+08    1.355842e+02  \n",
       "1028  1.485871e+08    9.979708e+01  \n",
       "1029  1.701968e+08    2.339508e+01  \n",
       "1030  1.600079e+09    9.914997e+00  \n",
       "\n",
       "[1031 rows x 6 columns]"
      ]
     },
     "execution_count": 90,
     "metadata": {},
     "output_type": "execute_result"
    }
   ],
   "source": [
    "# remove null\n",
    "df = df[~df.available_supply.isna()]\n",
    "df"
   ]
  },
  {
   "cell_type": "code",
   "execution_count": 91,
   "metadata": {},
   "outputs": [],
   "source": [
    "# calculate market_cap_usd\n",
    "df.market_cap_usd = df.available_supply * df.price_usd"
   ]
  },
  {
   "cell_type": "code",
   "execution_count": 92,
   "metadata": {},
   "outputs": [
    {
     "name": "stdout",
     "output_type": "stream",
     "text": [
      "<class 'pandas.core.frame.DataFrame'>\n",
      "Int64Index: 1031 entries, 0 to 1030\n",
      "Data columns (total 6 columns):\n",
      " #   Column            Non-Null Count  Dtype  \n",
      "---  ------            --------------  -----  \n",
      " 0   name              1031 non-null   object \n",
      " 1   symbol            1031 non-null   object \n",
      " 2   price_usd         1031 non-null   float64\n",
      " 3   available_supply  1031 non-null   float64\n",
      " 4   total_supply      1031 non-null   float64\n",
      " 5   market_cap_usd    1031 non-null   float64\n",
      "dtypes: float64(4), object(2)\n",
      "memory usage: 56.4+ KB\n"
     ]
    }
   ],
   "source": [
    "df.info()"
   ]
  },
  {
   "cell_type": "code",
   "execution_count": 93,
   "metadata": {},
   "outputs": [
    {
     "data": {
      "image/png": "[encoded data removed]",
      "text/plain": [
       "<Figure size 432x288 with 1 Axes>"
      ]
     },
     "metadata": {
      "needs_background": "light"
     },
     "output_type": "display_data"
    }
   ],
   "source": [
    "# EDA\n",
    "\n",
    "# market cap distribution\n",
    "ax = sns.stripplot(data=df, x='market_cap_usd')\n",
    "ax.set_title('Market capitalization (USD)')\n",
    "plt.show()"
   ]
  },
  {
   "cell_type": "code",
   "execution_count": 94,
   "metadata": {
    "scrolled": true
   },
   "outputs": [
    {
     "name": "stdout",
     "output_type": "stream",
     "text": [
      "Bitcoin market cap 213049346737.5\n",
      "Others market cap 161255513828.37848\n"
     ]
    }
   ],
   "source": [
    "# Bitcoin dominance\n",
    "btc = float(df[df.symbol == 'BTC'].market_cap_usd)\n",
    "print('Bitcoin market cap', btc)\n",
    "\n",
    "others = float(df[df.symbol != 'BTC'].market_cap_usd.sum())\n",
    "print('Others market cap', others)"
   ]
  },
  {
   "cell_type": "code",
   "execution_count": 95,
   "metadata": {},
   "outputs": [
    {
     "data": {
      "text/plain": [
       "Text(0.5, 1.0, 'Bitcoin dominance (6th Dec 2017)')"
      ]
     },
     "execution_count": 95,
     "metadata": {},
     "output_type": "execute_result"
    },
    {
     "data": {
      "image/png": "[encoded data removed]",
      "text/plain": [
       "<Figure size 432x288 with 1 Axes>"
      ]
     },
     "metadata": {
      "needs_background": "light"
     },
     "output_type": "display_data"
    }
   ],
   "source": [
    "# 1. Visualize Bitcoin dominance\n",
    "\n",
    "# add another column\n",
    "df['dominance'] = (df.symbol == 'BTC')\n",
    "df['dominance'] = df.dominance.replace({True:'Bitcoin', False:'Others'})\n",
    "\n",
    "# create\n",
    "ax = sns.barplot(data=df, x='dominance', y='market_cap_usd', estimator=np.sum, ci=None)\n",
    "ax.set_title(\"Bitcoin dominance (6th Dec 2017)\")"
   ]
  },
  {
   "cell_type": "code",
   "execution_count": 109,
   "metadata": {},
   "outputs": [
    {
     "data": {
      "image/png": "[encoded data removed]",
      "text/plain": [
       "<Figure size 432x288 with 1 Axes>"
      ]
     },
     "metadata": {
      "needs_background": "light"
     },
     "output_type": "display_data"
    }
   ],
   "source": [
    "# 2. Top 10 coins by market cap\n",
    "top10 = df.sort_values(by='market_cap_usd', ascending=True).tail(10)\n",
    "\n",
    "plt.barh(data=top10, y='name', width='market_cap_usd')\n",
    "plt.title('Top 10 coins by market cap')\n",
    "plt.xlabel('Market cap (USD)')\n",
    "plt.show()"
   ]
  }
 ],
 "metadata": {
  "kernelspec": {
   "display_name": "Python 3",
   "language": "python",
   "name": "python3"
  },
  "language_info": {
   "codemirror_mode": {
    "name": "ipython",
    "version": 3
   },
   "file_extension": ".py",
   "mimetype": "text/x-python",
   "name": "python",
   "nbconvert_exporter": "python",
   "pygments_lexer": "ipython3",
   "version": "3.7.6"
  }
 },
 "nbformat": 4,
 "nbformat_minor": 4
}
