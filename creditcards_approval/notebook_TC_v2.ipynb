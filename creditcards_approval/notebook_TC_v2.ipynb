{
 "cells": [
  {
   "cell_type": "markdown",
   "source": [
    "# Predicting creditcards approval v2\r\n",
    "\r\n",
    "Plan\r\n",
    "1. Data already cleaned from previous notebook\r\n",
    "2. EDA\r\n",
    "3. Come up with some sense of the dataset before going into building models\r\n",
    "4. Define problem statement and come up with assumptions\r\n",
    "<br>\r\n",
    "<br>\r\n",
    "5. Preprocessing what more can we do - dimensional reduction, NMF??\r\n",
    "6. Fine tune each model's parameters to squeeze out the best for each model\r\n",
    "7. Compare different classification models - knn, logistic regression "
   ],
   "metadata": {}
  },
  {
   "cell_type": "markdown",
   "source": [
    "## Get data from cleaned source"
   ],
   "metadata": {}
  },
  {
   "cell_type": "code",
   "execution_count": 38,
   "source": [
    "# import packages\r\n",
    "import pandas as pd\r\n",
    "# read csv\r\n",
    "df = pd.read_csv('cc_approvals_cleaned.csv')\r\n",
    "print(df.head())\r\n",
    "print('-'*40)\r\n",
    "print(df.info())"
   ],
   "outputs": [
    {
     "output_type": "stream",
     "name": "stdout",
     "text": [
      "  Gender    Age   Debt Married BankCustomer EducationLevel Ethnicity  \\\n",
      "0      b  30.83  0.000       u            g              w         v   \n",
      "1      a  58.67  4.460       u            g              q         h   \n",
      "2      a  24.50  0.500       u            g              q         h   \n",
      "3      b  27.83  1.540       u            g              w         v   \n",
      "4      b  20.17  5.625       u            g              w         v   \n",
      "\n",
      "   YearsEmployed PriorDefault Employed  CreditScore DriversLicense Citizen  \\\n",
      "0           1.25            t        t            1              f       g   \n",
      "1           3.04            t        t            6              f       g   \n",
      "2           1.50            t        f            0              f       g   \n",
      "3           3.75            t        t            5              t       g   \n",
      "4           1.71            t        f            0              f       s   \n",
      "\n",
      "   ZipCode  Income ApprovalStatus  \n",
      "0      202       0              +  \n",
      "1       43     560              +  \n",
      "2      280     824              +  \n",
      "3      100       3              +  \n",
      "4      120       0              +  \n",
      "----------------------------------------\n",
      "<class 'pandas.core.frame.DataFrame'>\n",
      "RangeIndex: 664 entries, 0 to 663\n",
      "Data columns (total 16 columns):\n",
      " #   Column          Non-Null Count  Dtype  \n",
      "---  ------          --------------  -----  \n",
      " 0   Gender          664 non-null    object \n",
      " 1   Age             653 non-null    float64\n",
      " 2   Debt            664 non-null    float64\n",
      " 3   Married         664 non-null    object \n",
      " 4   BankCustomer    664 non-null    object \n",
      " 5   EducationLevel  664 non-null    object \n",
      " 6   Ethnicity       664 non-null    object \n",
      " 7   YearsEmployed   664 non-null    float64\n",
      " 8   PriorDefault    664 non-null    object \n",
      " 9   Employed        664 non-null    object \n",
      " 10  CreditScore     664 non-null    int64  \n",
      " 11  DriversLicense  664 non-null    object \n",
      " 12  Citizen         664 non-null    object \n",
      " 13  ZipCode         664 non-null    int64  \n",
      " 14  Income          664 non-null    int64  \n",
      " 15  ApprovalStatus  664 non-null    object \n",
      "dtypes: float64(3), int64(3), object(10)\n",
      "memory usage: 83.1+ KB\n",
      "None\n"
     ]
    }
   ],
   "metadata": {}
  },
  {
   "cell_type": "code",
   "execution_count": 39,
   "source": [
    "# change zipcode to string again, got reseted when reloaded csv\r\n",
    "df.ZipCode = df.ZipCode.astype('str')\r\n",
    "print(df.info())"
   ],
   "outputs": [
    {
     "output_type": "stream",
     "name": "stdout",
     "text": [
      "<class 'pandas.core.frame.DataFrame'>\n",
      "RangeIndex: 664 entries, 0 to 663\n",
      "Data columns (total 16 columns):\n",
      " #   Column          Non-Null Count  Dtype  \n",
      "---  ------          --------------  -----  \n",
      " 0   Gender          664 non-null    object \n",
      " 1   Age             653 non-null    float64\n",
      " 2   Debt            664 non-null    float64\n",
      " 3   Married         664 non-null    object \n",
      " 4   BankCustomer    664 non-null    object \n",
      " 5   EducationLevel  664 non-null    object \n",
      " 6   Ethnicity       664 non-null    object \n",
      " 7   YearsEmployed   664 non-null    float64\n",
      " 8   PriorDefault    664 non-null    object \n",
      " 9   Employed        664 non-null    object \n",
      " 10  CreditScore     664 non-null    int64  \n",
      " 11  DriversLicense  664 non-null    object \n",
      " 12  Citizen         664 non-null    object \n",
      " 13  ZipCode         664 non-null    object \n",
      " 14  Income          664 non-null    int64  \n",
      " 15  ApprovalStatus  664 non-null    object \n",
      "dtypes: float64(3), int64(2), object(11)\n",
      "memory usage: 83.1+ KB\n",
      "None\n"
     ]
    }
   ],
   "metadata": {}
  },
  {
   "cell_type": "markdown",
   "source": [
    "## Problem statement\r\n",
    "1. Who are our creditcards customers?\r\n",
    "2. Which features influenced approval decision?\r\n",
    "3. Given application data, develop a classification model to predict creditcard approval to save manual application revision time.\r\n"
   ],
   "metadata": {}
  },
  {
   "cell_type": "markdown",
   "source": [
    "## EDA"
   ],
   "metadata": {}
  },
  {
   "cell_type": "markdown",
   "source": [
    "1. Most of applicants are under 40 years old\r\n",
    "2. Median income is 5.00 !!!!"
   ],
   "metadata": {}
  },
  {
   "cell_type": "code",
   "execution_count": 40,
   "source": [
    "# Inspect data\r\n",
    "print(df.describe())\r\n",
    "print(df.describe(include=['O']))"
   ],
   "outputs": [
    {
     "output_type": "stream",
     "name": "stdout",
     "text": [
      "              Age        Debt  YearsEmployed  CreditScore         Income\n",
      "count  653.000000  664.000000     664.000000   664.000000     664.000000\n",
      "mean    31.503813    4.799285       2.261777     2.468373    1003.585843\n",
      "std     11.838267    5.004580       3.367623     4.935685    5211.191653\n",
      "min     13.750000    0.000000       0.000000     0.000000       0.000000\n",
      "25%     22.580000    1.000000       0.165000     0.000000       0.000000\n",
      "50%     28.420000    2.855000       1.000000     0.000000       5.000000\n",
      "75%     38.250000    7.122500       2.750000     3.000000     397.000000\n",
      "max     76.750000   28.000000      28.500000    67.000000  100000.000000\n",
      "       Gender Married BankCustomer EducationLevel Ethnicity PriorDefault  \\\n",
      "count     664     664          664            664       664          664   \n",
      "unique      2       3            3             14         9            2   \n",
      "top         b       u            g              c         v            t   \n",
      "freq      459     506          506            134       389          355   \n",
      "\n",
      "       Employed DriversLicense Citizen ZipCode ApprovalStatus  \n",
      "count       664            664     664     664            664  \n",
      "unique        2              2       3     166              2  \n",
      "top           f              f       g       0              -  \n",
      "freq        375            355     607     131            366  \n"
     ]
    }
   ],
   "metadata": {}
  },
  {
   "cell_type": "code",
   "execution_count": 41,
   "source": [
    "# Separate categorical and numerical features\r\n",
    "cat_feats = []\r\n",
    "num_feats = []\r\n",
    "for col in df.columns:\r\n",
    "    if col == 'ApprovalStatus':\r\n",
    "        pass # this is our target variable\r\n",
    "    elif df[col].dtype == object:\r\n",
    "        # print(col, 'is a cat feat')\r\n",
    "        cat_feats.append(col)\r\n",
    "    else:\r\n",
    "        # print(col, 'is a num feat')\r\n",
    "        num_feats.append(col)\r\n",
    "print('Categorical features:', cat_feats)\r\n",
    "print('Numerical features:', num_feats)"
   ],
   "outputs": [
    {
     "output_type": "stream",
     "name": "stdout",
     "text": [
      "Categorical features: ['Gender', 'Married', 'BankCustomer', 'EducationLevel', 'Ethnicity', 'PriorDefault', 'Employed', 'DriversLicense', 'Citizen', 'ZipCode']\n",
      "Numerical features: ['Age', 'Debt', 'YearsEmployed', 'CreditScore', 'Income']\n"
     ]
    }
   ],
   "metadata": {}
  },
  {
   "cell_type": "code",
   "execution_count": 42,
   "source": [
    "# Visualize numerical features to find outliers\r\n",
    "import seaborn as sns\r\n",
    "import matplotlib.pyplot as plt\r\n",
    "\r\n",
    "fig, ax = plt.subplots(ncols=len(num_feats), figsize=(30,5))\r\n",
    "for i in range(len(num_feats)):\r\n",
    "    _ = sns.boxplot(data=df, x=num_feats[i], ax=ax[i])\r\n",
    "plt.show()"
   ],
   "outputs": [
    {
     "output_type": "display_data",
     "data": {
      "text/plain": [
       "<Figure size 2160x360 with 5 Axes>"
      ],
      "image/png": "[encoded data removed]"
     },
     "metadata": {
      "needs_background": "light"
     }
    }
   ],
   "metadata": {}
  },
  {
   "cell_type": "code",
   "execution_count": 43,
   "source": [
    "# Visualize ApprovalStatus in terms of cat feature\r\n",
    "for cat_feat in cat_feats:\r\n",
    "    # if df[cat_feat].nunique() < 7:\r\n",
    "        # _ = sns.catplot(data=df, x='ApprovalStatus', kind='count', col=cat_feat)\r\n",
    "        # plt.show()\r\n",
    "    print(pd.crosstab(index=df[cat_feat], columns=df['ApprovalStatus']))\r\n",
    "        "
   ],
   "outputs": [
    {
     "output_type": "stream",
     "name": "stdout",
     "text": [
      "ApprovalStatus    +    -\n",
      "Gender                  \n",
      "a                95  110\n",
      "b               203  256\n",
      "ApprovalStatus    +    -\n",
      "Married                 \n",
      "l                 2    0\n",
      "u               251  255\n",
      "y                45  111\n",
      "ApprovalStatus    +    -\n",
      "BankCustomer            \n",
      "g               251  255\n",
      "gg                2    0\n",
      "p                45  111\n",
      "ApprovalStatus   +   -\n",
      "EducationLevel        \n",
      "aa              19  34\n",
      "c               60  74\n",
      "cc              29  11\n",
      "d                7  22\n",
      "e               14  10\n",
      "ff               7  44\n",
      "i               14  43\n",
      "j                3   7\n",
      "k               13  36\n",
      "m               16  22\n",
      "q               49  26\n",
      "r                2   1\n",
      "w               33  30\n",
      "x               32   6\n",
      "ApprovalStatus    +    -\n",
      "Ethnicity               \n",
      "bb               24   31\n",
      "dd                2    4\n",
      "ff                8   47\n",
      "h                87   50\n",
      "j                 3    5\n",
      "n                 2    2\n",
      "o                 1    1\n",
      "v               165  224\n",
      "z                 6    2\n",
      "ApprovalStatus    +    -\n",
      "PriorDefault            \n",
      "f                18  291\n",
      "t               280   75\n",
      "ApprovalStatus    +    -\n",
      "Employed                \n",
      "f                94  281\n",
      "t               204   85\n",
      "ApprovalStatus    +    -\n",
      "DriversLicense          \n",
      "f               152  203\n",
      "t               146  163\n",
      "ApprovalStatus    +    -\n",
      "Citizen                 \n",
      "g               282  325\n",
      "p                 1    1\n",
      "s                15   40\n",
      "ApprovalStatus   +   -\n",
      "ZipCode               \n",
      "0               81  50\n",
      "100             14  16\n",
      "102              1   0\n",
      "108              1   3\n",
      "110              1   1\n",
      "...             ..  ..\n",
      "93               1   0\n",
      "94               0   1\n",
      "96               2   1\n",
      "980              0   1\n",
      "99               1   0\n",
      "\n",
      "[166 rows x 2 columns]\n"
     ]
    }
   ],
   "metadata": {}
  },
  {
   "cell_type": "markdown",
   "source": [
    "Cat features value has no meaning we can infer on ....."
   ],
   "metadata": {}
  },
  {
   "cell_type": "markdown",
   "source": [
    "Base model in last notebook managed to get around 84% accuracy.<br>\r\n",
    "See how can we improve on that."
   ],
   "metadata": {}
  },
  {
   "cell_type": "markdown",
   "source": [
    "## Preprocessing\r\n",
    "1. Drop zipcode - so many\r\n",
    "2. Label encode cat features\r\n",
    "3. Mean impute num features"
   ],
   "metadata": {}
  },
  {
   "cell_type": "code",
   "execution_count": 53,
   "source": [
    "# separate cat and num features and drop ZipCode\r\n",
    "X_num = df.loc[:, num_feats]\r\n",
    "X_cat = df.loc[:, cat_feats]\r\n",
    "X_cat = X_cat.drop(['ZipCode'], axis=1)\r\n",
    "cat_feats.remove('ZipCode')\r\n"
   ],
   "outputs": [],
   "metadata": {}
  },
  {
   "cell_type": "code",
   "execution_count": 54,
   "source": [
    "# try label encoding for categorical variables\r\n",
    "from sklearn.preprocessing import LabelEncoder\r\n",
    "for cat_feat in cat_feats:\r\n",
    "    le = LabelEncoder()\r\n",
    "    X_cat[cat_feat] = le.fit_transform(X_cat[cat_feat])"
   ],
   "outputs": [],
   "metadata": {}
  }
 ],
 "metadata": {
  "orig_nbformat": 4,
  "language_info": {
   "name": "python",
   "version": "3.8.8",
   "mimetype": "text/x-python",
   "codemirror_mode": {
    "name": "ipython",
    "version": 3
   },
   "pygments_lexer": "ipython3",
   "nbconvert_exporter": "python",
   "file_extension": ".py"
  },
  "kernelspec": {
   "name": "python3",
   "display_name": "Python 3.8.8 64-bit ('base': conda)"
  },
  "interpreter": {
   "hash": "5e57bd0e9122681100ff0c01a77d03a96c53183a268dc781647c7935a0e65936"
  }
 },
 "nbformat": 4,
 "nbformat_minor": 2
}